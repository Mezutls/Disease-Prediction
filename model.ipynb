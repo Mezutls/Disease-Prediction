{
  "cells": [
    {
      "cell_type": "code",
      "source": [
        "from google.colab import drive\n",
        "drive.mount('/content/drive')"
      ],
      "metadata": {
        "colab": {
          "base_uri": "https://localhost:8080/"
        },
        "id": "WrLnrUw2qCS9",
        "outputId": "bd625dea-c75e-499e-f6df-c9f956a01def"
      },
      "execution_count": 1,
      "outputs": [
        {
          "output_type": "stream",
          "name": "stdout",
          "text": [
            "Mounted at /content/drive\n"
          ]
        }
      ]
    },
    {
      "cell_type": "code",
      "execution_count": 3,
      "metadata": {
        "id": "bAGL4_xNy0uE"
      },
      "outputs": [],
      "source": [
        "# Importing the packages\n",
        "import numpy as np\n",
        "import pandas as pd\n",
        "#import statsmodels.api as sm\n",
        "import seaborn as sns\n",
        "import matplotlib.pyplot as plt\n",
        "from sklearn.preprocessing import scale, StandardScaler\n",
        "from sklearn.model_selection import train_test_split\n",
        "from sklearn.ensemble import RandomForestClassifier\n",
        "from sklearn.metrics import accuracy_score, f1_score, precision_score, recall_score, confusion_matrix\n",
        "#from sklearn.model_selection import KFold\n",
        "from sklearn.ensemble import VotingClassifier\n",
        "import warnings\n",
        "warnings.simplefilter(action = \"ignore\")\n",
        "sns.set()\n",
        "plt.style.use('ggplot')\n",
        "%matplotlib inline"
      ]
    },
    {
      "cell_type": "code",
      "execution_count": 4,
      "metadata": {
        "id": "nrw49fFVzCnQ"
      },
      "outputs": [],
      "source": [
        "df_d=pd.read_csv('/content/drive/MyDrive/Disease Prediction 2/Cleaned Datasets/diabetescleaned.csv')\n",
        "df_h=pd.read_csv('/content/drive/MyDrive/Disease Prediction 2/Cleaned Datasets/heartcleaned.csv')\n",
        "df_k=pd.read_csv('/content/drive/MyDrive/Disease Prediction 2/Cleaned Datasets/kidneycleaned.csv')\n",
        "df_l=pd.read_csv('/content/drive/MyDrive/Disease Prediction 2/Cleaned Datasets/livercleaned.csv')"
      ]
    },
    {
      "cell_type": "code",
      "source": [
        "import pandas as pd\n",
        "\n",
        "def drop_weak_correlations_with_target(data, target_column, threshold):\n",
        "    \"\"\"Drops features with correlations below `threshold` (absolute value) with respect to the target column.  Assumes target is the last column .\n",
        "    Args:\n",
        "        data: A pandas DataFrame.\n",
        "        target_column: The name of the classification target feature.\n",
        "        threshold: The correlation coefficient threshold.\n",
        "\n",
        "    Returns:\n",
        "        A new DataFrame with weakly correlated features removed.\n",
        "    \"\"\"\n",
        "    correlations = data.corr()[target_column].abs()[:-1]  # Exclude the target itself\n",
        "    weak_features = correlations[correlations < threshold].index\n",
        "    return data.drop(weak_features, axis=1)\n",
        "\n",
        "def get_feature_count(data, target_column, threshold):\n",
        "    new_data = drop_weak_correlations_with_target(data.copy(), target_column, threshold)\n",
        "    return len(new_data.columns) - 1  # Subtract 1 for the target column\n",
        "\n",
        "def find_threshold(datasets, target_column, desired_feature_count):\n",
        "    threshold = 0.0\n",
        "    increment = 0.1\n",
        "\n",
        "    while True:\n",
        "        feature_counts = [get_feature_count(data, target_column, threshold) for data in datasets]\n",
        "        min_features = min(feature_counts)\n",
        "        max_features = max(feature_counts)\n",
        "\n",
        "        if min_features == max_features == desired_feature_count:\n",
        "            return threshold\n",
        "\n",
        "        if max_features > desired_feature_count:\n",
        "            threshold += increment\n",
        "        else:\n",
        "            threshold -= increment\n",
        "            increment /= 2\n",
        "\n",
        "\n"
      ],
      "metadata": {
        "id": "LZtKTsxg-5_b"
      },
      "execution_count": 5,
      "outputs": []
    },
    {
      "cell_type": "code",
      "source": [
        "# ... (Load your datasets df_d, df_h, df_k, and df_l)\n",
        "datasets=[df_k]\n",
        "target_column = \"class\"  # Example; adjust accordingly\n",
        "desired_feature_count = 8\n",
        "\n",
        "final_threshold = find_threshold(datasets.copy(), target_column, desired_feature_count)\n",
        "print(\"Final Threshold:\", final_threshold)"
      ],
      "metadata": {
        "colab": {
          "base_uri": "https://localhost:8080/"
        },
        "id": "7ZBFNWZm-5yI",
        "outputId": "62025fac-b9f5-4d05-bcc7-972abac24157"
      },
      "execution_count": 6,
      "outputs": [
        {
          "output_type": "stream",
          "name": "stdout",
          "text": [
            "Final Threshold: 0.39375000000000004\n"
          ]
        }
      ]
    },
    {
      "cell_type": "code",
      "source": [
        "# Your dataset and target column (assuming 'Outcome' is the correct target for the kidney disease dataset)\n",
        "data = df_k.copy()  # Make a copy to avoid modifying your original dataset\n",
        "target_column = \"class\"\n",
        "\n",
        "# The threshold determined using the iterative process\n",
        "final_threshold = 0.39375000000000004\n",
        "\n",
        "# Calling the function to drop weakly correlated features\n",
        "new_data_k = drop_weak_correlations_with_target(data, target_column, final_threshold)\n",
        "\n",
        "print(new_data_k.head())  # Display the first few rows of the modified dataset"
      ],
      "metadata": {
        "colab": {
          "base_uri": "https://localhost:8080/"
        },
        "id": "Gp4Xz1NtBFyk",
        "outputId": "09492a91-2188-4f05-dd8e-b1503f343650"
      },
      "execution_count": 7,
      "outputs": [
        {
          "output_type": "stream",
          "name": "stdout",
          "text": [
            "   specific_gravity  albumin  pus_cell  haemoglobin  packed_cell_volume  \\\n",
            "0             1.020      1.0         1         15.4                44.0   \n",
            "1             1.020      4.0         1         11.3                38.0   \n",
            "2             1.010      2.0         1          9.6                31.0   \n",
            "3             1.005      4.0         0         11.2                32.0   \n",
            "4             1.010      2.0         1         11.6                35.0   \n",
            "\n",
            "   red_blood_cell_count  hypertension  diabetes_mellitus  class  \n",
            "0                   5.2             1                  1      0  \n",
            "1                   2.1             0                  0      0  \n",
            "2                   5.7             0                  1      0  \n",
            "3                   3.9             1                  0      0  \n",
            "4                   4.6             0                  0      0  \n"
          ]
        }
      ]
    },
    {
      "cell_type": "code",
      "source": [
        "# ... (Load your datasets df_d, df_h, df_k, and df_l)\n",
        "datasets=[df_h]\n",
        "target_column = \"target\"  # Example; adjust accordingly\n",
        "desired_feature_count = 8\n",
        "\n",
        "final_threshold = find_threshold(datasets.copy(), target_column, desired_feature_count)\n",
        "print(\"Final Threshold:\", final_threshold)"
      ],
      "metadata": {
        "colab": {
          "base_uri": "https://localhost:8080/"
        },
        "id": "DUuE6DMcBZiY",
        "outputId": "fb2e45da-a6f4-4cec-830e-5fa084a9c9f9"
      },
      "execution_count": 8,
      "outputs": [
        {
          "output_type": "stream",
          "name": "stdout",
          "text": [
            "Final Threshold: 0.25000000000000006\n"
          ]
        }
      ]
    },
    {
      "cell_type": "code",
      "source": [
        "# Your dataset and target column (assuming 'Outcome' is the correct target for the kidney disease dataset)\n",
        "data = df_h.copy()  # Make a copy to avoid modifying your original dataset\n",
        "target_column = \"target\"\n",
        "\n",
        "# The threshold determined using the iterative process\n",
        "final_threshold = 0.25000000000000006\n",
        "\n",
        "# Calling the function to drop weakly correlated features\n",
        "new_data_h = drop_weak_correlations_with_target(data, target_column, final_threshold)\n",
        "\n",
        "print(new_data_h.head())  # Display the first few rows of the modified dataset"
      ],
      "metadata": {
        "colab": {
          "base_uri": "https://localhost:8080/"
        },
        "id": "m58A89mWBt9L",
        "outputId": "cac5a5a9-6f91-4dd3-af36-4237b9eb618f"
      },
      "execution_count": 9,
      "outputs": [
        {
          "output_type": "stream",
          "name": "stdout",
          "text": [
            "   sex  cp   thalach  exang  oldpeak  slope  ca  thal  target\n",
            "0    1   3  5.010635      0      2.3      0   0     1       1\n",
            "1    1   2  5.231109      0      3.5      0   0     2       1\n",
            "2    0   1  5.147494      0      1.4      2   0     2       1\n",
            "3    1   1  5.181784      0      0.8      2   0     2       1\n",
            "4    0   0  5.093750      1      0.6      2   0     2       1\n"
          ]
        }
      ]
    },
    {
      "cell_type": "code",
      "source": [
        "# ... (Load your datasets df_d, df_h, df_k, and df_l)\n",
        "datasets=[df_d]\n",
        "target_column = \"Outcome\"  # Example; adjust accordingly\n",
        "desired_feature_count = 8\n",
        "\n",
        "final_threshold = find_threshold(datasets.copy(), target_column, desired_feature_count)\n",
        "print(\"Final Threshold:\", final_threshold)"
      ],
      "metadata": {
        "colab": {
          "base_uri": "https://localhost:8080/"
        },
        "id": "5GsAzECs9leF",
        "outputId": "4bad81e5-bec2-4c17-c1b4-5d8b9cf60385"
      },
      "execution_count": 10,
      "outputs": [
        {
          "output_type": "stream",
          "name": "stdout",
          "text": [
            "Final Threshold: 0.23750000000000007\n"
          ]
        }
      ]
    },
    {
      "cell_type": "code",
      "source": [
        "# Your dataset and target column (assuming 'Outcome' is the correct target for the kidney disease dataset)\n",
        "data = df_d.copy()  # Make a copy to avoid modifying your original dataset\n",
        "target_column = \"Outcome\"\n",
        "\n",
        "# The threshold determined using the iterative process\n",
        "final_threshold = 0.23750000000000007\n",
        "\n",
        "# Calling the function to drop weakly correlated features\n",
        "new_data_d = drop_weak_correlations_with_target(data, target_column, final_threshold)\n",
        "\n",
        "print(new_data_d.head())  # Display the first few rows of the modified dataset"
      ],
      "metadata": {
        "colab": {
          "base_uri": "https://localhost:8080/"
        },
        "id": "yXNahxav9lU9",
        "outputId": "30979b19-8e5c-4a4d-ee26-473648be265f"
      },
      "execution_count": 11,
      "outputs": [
        {
          "output_type": "stream",
          "name": "stdout",
          "text": [
            "   Glucose  SkinThickness  Insulin   BMI  Age  Outcome  \\\n",
            "0    148.0           35.0    169.5  33.6   50        1   \n",
            "1     85.0           29.0    102.5  26.6   31        0   \n",
            "2    183.0           32.0    169.5  23.3   32        1   \n",
            "3     89.0           23.0     94.0  28.1   21        0   \n",
            "4    137.0           35.0    168.0  43.1   33        1   \n",
            "\n",
            "   NewInsulinScore_Normal  NewGlucose_Normal  NewGlucose_Secret  \n",
            "0                       0                  0                  1  \n",
            "1                       1                  1                  0  \n",
            "2                       0                  0                  1  \n",
            "3                       1                  1                  0  \n",
            "4                       0                  0                  1  \n"
          ]
        }
      ]
    },
    {
      "cell_type": "code",
      "source": [
        "# ... (Load your datasets df_d, df_h, df_k, and df_l)\n",
        "datasets=[df_l]\n",
        "target_column = \"Result\"  # Example; adjust accordingly\n",
        "desired_feature_count = 8\n",
        "\n",
        "final_threshold = find_threshold(datasets.copy(), target_column, desired_feature_count)\n",
        "print(\"Final Threshold:\", final_threshold)"
      ],
      "metadata": {
        "colab": {
          "base_uri": "https://localhost:8080/"
        },
        "id": "WK0xvFhd9lLU",
        "outputId": "8b954603-4658-4133-c841-4cc1cf6c12be"
      },
      "execution_count": 12,
      "outputs": [
        {
          "output_type": "stream",
          "name": "stdout",
          "text": [
            "Final Threshold: 0.1\n"
          ]
        }
      ]
    },
    {
      "cell_type": "code",
      "source": [
        "# Your dataset and target column (assuming 'Outcome' is the correct target for the kidney disease dataset)\n",
        "data = df_l.copy()  # Make a copy to avoid modifying your original dataset\n",
        "target_column = \"Result\"\n",
        "\n",
        "# The threshold determined using the iterative process\n",
        "final_threshold = 0.1\n",
        "\n",
        "# Calling the function to drop weakly correlated features\n",
        "new_data_l = drop_weak_correlations_with_target(data, target_column, final_threshold)\n",
        "\n",
        "print(new_data_l.head())  # Display the first few rows of the modified dataset"
      ],
      "metadata": {
        "colab": {
          "base_uri": "https://localhost:8080/"
        },
        "id": "p4vL05g-9lCu",
        "outputId": "acf61799-0940-4484-da6f-4f52cca67ef6"
      },
      "execution_count": 13,
      "outputs": [
        {
          "output_type": "stream",
          "name": "stdout",
          "text": [
            "   Gender  Total Bilirubin  Direct Bilirubin  Alkaline_Phosphotase  \\\n",
            "0  Female              0.7               0.1                 187.0   \n",
            "1    Male             10.9               5.5                 699.0   \n",
            "2    Male              7.3               4.1                 490.0   \n",
            "3    Male              1.0               0.4                 182.0   \n",
            "4    Male              3.9               2.0                 195.0   \n",
            "\n",
            "   Alamine_Aminotransferase  Aspartate_Aminotransferase  Albumin  \\\n",
            "0                      16.0                        18.0      3.3   \n",
            "1                      64.0                       100.0      3.2   \n",
            "2                      60.0                        68.0      3.3   \n",
            "3                      14.0                        20.0      3.4   \n",
            "4                      27.0                        59.0      2.4   \n",
            "\n",
            "   Albumin_and_Globulin Ratio  Result  \n",
            "0                        0.90       1  \n",
            "1                        0.74       1  \n",
            "2                        0.89       1  \n",
            "3                        1.00       1  \n",
            "4                        0.40       1  \n"
          ]
        }
      ]
    },
    {
      "cell_type": "code",
      "execution_count": 14,
      "metadata": {
        "id": "vFoMAys9EEpD"
      },
      "outputs": [],
      "source": [
        "## if score==negative, mark 0 ;else 1\n",
        "def partition(x):\n",
        "    if x =='Male':\n",
        "        return 0\n",
        "    return 1\n",
        "\n",
        "new_data_l['Gender'] = new_data_l['Gender'].map(partition)"
      ]
    },
    {
      "cell_type": "code",
      "source": [
        "# More efficient target conversion\n",
        "def convert_targets(labels):\n",
        "    return [0 if label == 1 else 1 for label in labels]\n"
      ],
      "metadata": {
        "id": "wBiPDdi6OSrK"
      },
      "execution_count": 15,
      "outputs": []
    },
    {
      "cell_type": "code",
      "source": [
        "def fix_liver_labels(df):\n",
        "    if df['Result'].dtype == 'object':\n",
        "        df['Result'] = df['Result'].astype(int)\n",
        "\n",
        "    # Mapping 1 to 0 and 2 to 1\n",
        "    df.loc[df['Result'] == 1, 'Result'] = 0\n",
        "    df.loc[df['Result'] == 2, 'Result'] = 1\n",
        "\n",
        "    return df\n"
      ],
      "metadata": {
        "id": "htQWNklYNC19"
      },
      "execution_count": 16,
      "outputs": []
    },
    {
      "cell_type": "code",
      "source": [
        "new_data_l = fix_liver_labels(new_data_l.copy())"
      ],
      "metadata": {
        "id": "H-su-CaGOmrg"
      },
      "execution_count": 17,
      "outputs": []
    },
    {
      "cell_type": "code",
      "execution_count": 18,
      "metadata": {
        "id": "K4pY7U-W2WrK"
      },
      "outputs": [],
      "source": [
        "# Split the data into training and testing sets\n",
        "X_diabetes, X_test_diabetes, y_diabetes, y_test_diabetes = train_test_split(new_data_d.drop('Outcome', axis=1), new_data_d['Outcome'], test_size=0.3, random_state=42)\n",
        "X_heart, X_test_heart, y_heart, y_test_heart = train_test_split(new_data_h.drop('target', axis=1), new_data_h['target'], test_size=0.3, random_state=42)\n",
        "X_kidney, X_test_kidney, y_kidney, y_test_kidney = train_test_split(new_data_k.drop('class', axis=1), new_data_k['class'], test_size=0.3, random_state=42)\n",
        "X_liver, X_test_liver, y_liver, y_test_liver = train_test_split(new_data_l.drop('Result', axis=1), new_data_l['Result'], test_size=0.2, random_state=42)"
      ]
    },
    {
      "cell_type": "code",
      "execution_count": 19,
      "metadata": {
        "id": "H58z-Dc4C-38"
      },
      "outputs": [],
      "source": [
        "# Create the individual models\n",
        "diabetes_model = RandomForestClassifier()\n",
        "heart_model = RandomForestClassifier()\n",
        "kidney_model = RandomForestClassifier()\n",
        "liver_model = RandomForestClassifier()"
      ]
    },
    {
      "cell_type": "code",
      "execution_count": 20,
      "metadata": {
        "colab": {
          "base_uri": "https://localhost:8080/",
          "height": 74
        },
        "id": "sx73CkevDDoz",
        "outputId": "3c42175b-95e2-49a3-ee5c-f48e65facbdb"
      },
      "outputs": [
        {
          "output_type": "execute_result",
          "data": {
            "text/plain": [
              "RandomForestClassifier()"
            ],
            "text/html": [
              "<style>#sk-container-id-1 {color: black;background-color: white;}#sk-container-id-1 pre{padding: 0;}#sk-container-id-1 div.sk-toggleable {background-color: white;}#sk-container-id-1 label.sk-toggleable__label {cursor: pointer;display: block;width: 100%;margin-bottom: 0;padding: 0.3em;box-sizing: border-box;text-align: center;}#sk-container-id-1 label.sk-toggleable__label-arrow:before {content: \"▸\";float: left;margin-right: 0.25em;color: #696969;}#sk-container-id-1 label.sk-toggleable__label-arrow:hover:before {color: black;}#sk-container-id-1 div.sk-estimator:hover label.sk-toggleable__label-arrow:before {color: black;}#sk-container-id-1 div.sk-toggleable__content {max-height: 0;max-width: 0;overflow: hidden;text-align: left;background-color: #f0f8ff;}#sk-container-id-1 div.sk-toggleable__content pre {margin: 0.2em;color: black;border-radius: 0.25em;background-color: #f0f8ff;}#sk-container-id-1 input.sk-toggleable__control:checked~div.sk-toggleable__content {max-height: 200px;max-width: 100%;overflow: auto;}#sk-container-id-1 input.sk-toggleable__control:checked~label.sk-toggleable__label-arrow:before {content: \"▾\";}#sk-container-id-1 div.sk-estimator input.sk-toggleable__control:checked~label.sk-toggleable__label {background-color: #d4ebff;}#sk-container-id-1 div.sk-label input.sk-toggleable__control:checked~label.sk-toggleable__label {background-color: #d4ebff;}#sk-container-id-1 input.sk-hidden--visually {border: 0;clip: rect(1px 1px 1px 1px);clip: rect(1px, 1px, 1px, 1px);height: 1px;margin: -1px;overflow: hidden;padding: 0;position: absolute;width: 1px;}#sk-container-id-1 div.sk-estimator {font-family: monospace;background-color: #f0f8ff;border: 1px dotted black;border-radius: 0.25em;box-sizing: border-box;margin-bottom: 0.5em;}#sk-container-id-1 div.sk-estimator:hover {background-color: #d4ebff;}#sk-container-id-1 div.sk-parallel-item::after {content: \"\";width: 100%;border-bottom: 1px solid gray;flex-grow: 1;}#sk-container-id-1 div.sk-label:hover label.sk-toggleable__label {background-color: #d4ebff;}#sk-container-id-1 div.sk-serial::before {content: \"\";position: absolute;border-left: 1px solid gray;box-sizing: border-box;top: 0;bottom: 0;left: 50%;z-index: 0;}#sk-container-id-1 div.sk-serial {display: flex;flex-direction: column;align-items: center;background-color: white;padding-right: 0.2em;padding-left: 0.2em;position: relative;}#sk-container-id-1 div.sk-item {position: relative;z-index: 1;}#sk-container-id-1 div.sk-parallel {display: flex;align-items: stretch;justify-content: center;background-color: white;position: relative;}#sk-container-id-1 div.sk-item::before, #sk-container-id-1 div.sk-parallel-item::before {content: \"\";position: absolute;border-left: 1px solid gray;box-sizing: border-box;top: 0;bottom: 0;left: 50%;z-index: -1;}#sk-container-id-1 div.sk-parallel-item {display: flex;flex-direction: column;z-index: 1;position: relative;background-color: white;}#sk-container-id-1 div.sk-parallel-item:first-child::after {align-self: flex-end;width: 50%;}#sk-container-id-1 div.sk-parallel-item:last-child::after {align-self: flex-start;width: 50%;}#sk-container-id-1 div.sk-parallel-item:only-child::after {width: 0;}#sk-container-id-1 div.sk-dashed-wrapped {border: 1px dashed gray;margin: 0 0.4em 0.5em 0.4em;box-sizing: border-box;padding-bottom: 0.4em;background-color: white;}#sk-container-id-1 div.sk-label label {font-family: monospace;font-weight: bold;display: inline-block;line-height: 1.2em;}#sk-container-id-1 div.sk-label-container {text-align: center;}#sk-container-id-1 div.sk-container {/* jupyter's `normalize.less` sets `[hidden] { display: none; }` but bootstrap.min.css set `[hidden] { display: none !important; }` so we also need the `!important` here to be able to override the default hidden behavior on the sphinx rendered scikit-learn.org. See: https://github.com/scikit-learn/scikit-learn/issues/21755 */display: inline-block !important;position: relative;}#sk-container-id-1 div.sk-text-repr-fallback {display: none;}</style><div id=\"sk-container-id-1\" class=\"sk-top-container\"><div class=\"sk-text-repr-fallback\"><pre>RandomForestClassifier()</pre><b>In a Jupyter environment, please rerun this cell to show the HTML representation or trust the notebook. <br />On GitHub, the HTML representation is unable to render, please try loading this page with nbviewer.org.</b></div><div class=\"sk-container\" hidden><div class=\"sk-item\"><div class=\"sk-estimator sk-toggleable\"><input class=\"sk-toggleable__control sk-hidden--visually\" id=\"sk-estimator-id-1\" type=\"checkbox\" checked><label for=\"sk-estimator-id-1\" class=\"sk-toggleable__label sk-toggleable__label-arrow\">RandomForestClassifier</label><div class=\"sk-toggleable__content\"><pre>RandomForestClassifier()</pre></div></div></div></div></div>"
            ]
          },
          "metadata": {},
          "execution_count": 20
        }
      ],
      "source": [
        "# Train the individual models\n",
        "diabetes_model.fit(X_diabetes, y_diabetes)\n",
        "heart_model.fit(X_heart, y_heart)\n",
        "kidney_model.fit(X_kidney, y_kidney)\n",
        "liver_model.fit(X_liver, y_liver)"
      ]
    },
    {
      "cell_type": "code",
      "execution_count": 23,
      "metadata": {
        "id": "liAh7F2IETmr"
      },
      "outputs": [],
      "source": [
        "# Create the ensemble model\n",
        "ensemble_model = VotingClassifier(estimators=[('diabetes', diabetes_model), ('heart', heart_model), ('kidney', kidney_model), ('liver', liver_model)], voting='soft')"
      ]
    },
    {
      "cell_type": "code",
      "execution_count": 24,
      "metadata": {
        "colab": {
          "base_uri": "https://localhost:8080/",
          "height": 109
        },
        "id": "BqnT8UOdE9Ar",
        "outputId": "15db8b50-6848-4de6-f782-d451fd7abf52"
      },
      "outputs": [
        {
          "output_type": "execute_result",
          "data": {
            "text/plain": [
              "VotingClassifier(estimators=[('diabetes', RandomForestClassifier()),\n",
              "                             ('heart', RandomForestClassifier()),\n",
              "                             ('kidney', RandomForestClassifier()),\n",
              "                             ('liver', RandomForestClassifier())],\n",
              "                 voting='soft')"
            ],
            "text/html": [
              "<style>#sk-container-id-3 {color: black;background-color: white;}#sk-container-id-3 pre{padding: 0;}#sk-container-id-3 div.sk-toggleable {background-color: white;}#sk-container-id-3 label.sk-toggleable__label {cursor: pointer;display: block;width: 100%;margin-bottom: 0;padding: 0.3em;box-sizing: border-box;text-align: center;}#sk-container-id-3 label.sk-toggleable__label-arrow:before {content: \"▸\";float: left;margin-right: 0.25em;color: #696969;}#sk-container-id-3 label.sk-toggleable__label-arrow:hover:before {color: black;}#sk-container-id-3 div.sk-estimator:hover label.sk-toggleable__label-arrow:before {color: black;}#sk-container-id-3 div.sk-toggleable__content {max-height: 0;max-width: 0;overflow: hidden;text-align: left;background-color: #f0f8ff;}#sk-container-id-3 div.sk-toggleable__content pre {margin: 0.2em;color: black;border-radius: 0.25em;background-color: #f0f8ff;}#sk-container-id-3 input.sk-toggleable__control:checked~div.sk-toggleable__content {max-height: 200px;max-width: 100%;overflow: auto;}#sk-container-id-3 input.sk-toggleable__control:checked~label.sk-toggleable__label-arrow:before {content: \"▾\";}#sk-container-id-3 div.sk-estimator input.sk-toggleable__control:checked~label.sk-toggleable__label {background-color: #d4ebff;}#sk-container-id-3 div.sk-label input.sk-toggleable__control:checked~label.sk-toggleable__label {background-color: #d4ebff;}#sk-container-id-3 input.sk-hidden--visually {border: 0;clip: rect(1px 1px 1px 1px);clip: rect(1px, 1px, 1px, 1px);height: 1px;margin: -1px;overflow: hidden;padding: 0;position: absolute;width: 1px;}#sk-container-id-3 div.sk-estimator {font-family: monospace;background-color: #f0f8ff;border: 1px dotted black;border-radius: 0.25em;box-sizing: border-box;margin-bottom: 0.5em;}#sk-container-id-3 div.sk-estimator:hover {background-color: #d4ebff;}#sk-container-id-3 div.sk-parallel-item::after {content: \"\";width: 100%;border-bottom: 1px solid gray;flex-grow: 1;}#sk-container-id-3 div.sk-label:hover label.sk-toggleable__label {background-color: #d4ebff;}#sk-container-id-3 div.sk-serial::before {content: \"\";position: absolute;border-left: 1px solid gray;box-sizing: border-box;top: 0;bottom: 0;left: 50%;z-index: 0;}#sk-container-id-3 div.sk-serial {display: flex;flex-direction: column;align-items: center;background-color: white;padding-right: 0.2em;padding-left: 0.2em;position: relative;}#sk-container-id-3 div.sk-item {position: relative;z-index: 1;}#sk-container-id-3 div.sk-parallel {display: flex;align-items: stretch;justify-content: center;background-color: white;position: relative;}#sk-container-id-3 div.sk-item::before, #sk-container-id-3 div.sk-parallel-item::before {content: \"\";position: absolute;border-left: 1px solid gray;box-sizing: border-box;top: 0;bottom: 0;left: 50%;z-index: -1;}#sk-container-id-3 div.sk-parallel-item {display: flex;flex-direction: column;z-index: 1;position: relative;background-color: white;}#sk-container-id-3 div.sk-parallel-item:first-child::after {align-self: flex-end;width: 50%;}#sk-container-id-3 div.sk-parallel-item:last-child::after {align-self: flex-start;width: 50%;}#sk-container-id-3 div.sk-parallel-item:only-child::after {width: 0;}#sk-container-id-3 div.sk-dashed-wrapped {border: 1px dashed gray;margin: 0 0.4em 0.5em 0.4em;box-sizing: border-box;padding-bottom: 0.4em;background-color: white;}#sk-container-id-3 div.sk-label label {font-family: monospace;font-weight: bold;display: inline-block;line-height: 1.2em;}#sk-container-id-3 div.sk-label-container {text-align: center;}#sk-container-id-3 div.sk-container {/* jupyter's `normalize.less` sets `[hidden] { display: none; }` but bootstrap.min.css set `[hidden] { display: none !important; }` so we also need the `!important` here to be able to override the default hidden behavior on the sphinx rendered scikit-learn.org. See: https://github.com/scikit-learn/scikit-learn/issues/21755 */display: inline-block !important;position: relative;}#sk-container-id-3 div.sk-text-repr-fallback {display: none;}</style><div id=\"sk-container-id-3\" class=\"sk-top-container\"><div class=\"sk-text-repr-fallback\"><pre>VotingClassifier(estimators=[(&#x27;diabetes&#x27;, RandomForestClassifier()),\n",
              "                             (&#x27;heart&#x27;, RandomForestClassifier()),\n",
              "                             (&#x27;kidney&#x27;, RandomForestClassifier()),\n",
              "                             (&#x27;liver&#x27;, RandomForestClassifier())],\n",
              "                 voting=&#x27;soft&#x27;)</pre><b>In a Jupyter environment, please rerun this cell to show the HTML representation or trust the notebook. <br />On GitHub, the HTML representation is unable to render, please try loading this page with nbviewer.org.</b></div><div class=\"sk-container\" hidden><div class=\"sk-item sk-dashed-wrapped\"><div class=\"sk-label-container\"><div class=\"sk-label sk-toggleable\"><input class=\"sk-toggleable__control sk-hidden--visually\" id=\"sk-estimator-id-7\" type=\"checkbox\" ><label for=\"sk-estimator-id-7\" class=\"sk-toggleable__label sk-toggleable__label-arrow\">VotingClassifier</label><div class=\"sk-toggleable__content\"><pre>VotingClassifier(estimators=[(&#x27;diabetes&#x27;, RandomForestClassifier()),\n",
              "                             (&#x27;heart&#x27;, RandomForestClassifier()),\n",
              "                             (&#x27;kidney&#x27;, RandomForestClassifier()),\n",
              "                             (&#x27;liver&#x27;, RandomForestClassifier())],\n",
              "                 voting=&#x27;soft&#x27;)</pre></div></div></div><div class=\"sk-parallel\"><div class=\"sk-parallel-item\"><div class=\"sk-item\"><div class=\"sk-label-container\"><div class=\"sk-label sk-toggleable\"><label>diabetes</label></div></div><div class=\"sk-serial\"><div class=\"sk-item\"><div class=\"sk-estimator sk-toggleable\"><input class=\"sk-toggleable__control sk-hidden--visually\" id=\"sk-estimator-id-8\" type=\"checkbox\" ><label for=\"sk-estimator-id-8\" class=\"sk-toggleable__label sk-toggleable__label-arrow\">RandomForestClassifier</label><div class=\"sk-toggleable__content\"><pre>RandomForestClassifier()</pre></div></div></div></div></div></div><div class=\"sk-parallel-item\"><div class=\"sk-item\"><div class=\"sk-label-container\"><div class=\"sk-label sk-toggleable\"><label>heart</label></div></div><div class=\"sk-serial\"><div class=\"sk-item\"><div class=\"sk-estimator sk-toggleable\"><input class=\"sk-toggleable__control sk-hidden--visually\" id=\"sk-estimator-id-9\" type=\"checkbox\" ><label for=\"sk-estimator-id-9\" class=\"sk-toggleable__label sk-toggleable__label-arrow\">RandomForestClassifier</label><div class=\"sk-toggleable__content\"><pre>RandomForestClassifier()</pre></div></div></div></div></div></div><div class=\"sk-parallel-item\"><div class=\"sk-item\"><div class=\"sk-label-container\"><div class=\"sk-label sk-toggleable\"><label>kidney</label></div></div><div class=\"sk-serial\"><div class=\"sk-item\"><div class=\"sk-estimator sk-toggleable\"><input class=\"sk-toggleable__control sk-hidden--visually\" id=\"sk-estimator-id-10\" type=\"checkbox\" ><label for=\"sk-estimator-id-10\" class=\"sk-toggleable__label sk-toggleable__label-arrow\">RandomForestClassifier</label><div class=\"sk-toggleable__content\"><pre>RandomForestClassifier()</pre></div></div></div></div></div></div><div class=\"sk-parallel-item\"><div class=\"sk-item\"><div class=\"sk-label-container\"><div class=\"sk-label sk-toggleable\"><label>liver</label></div></div><div class=\"sk-serial\"><div class=\"sk-item\"><div class=\"sk-estimator sk-toggleable\"><input class=\"sk-toggleable__control sk-hidden--visually\" id=\"sk-estimator-id-11\" type=\"checkbox\" ><label for=\"sk-estimator-id-11\" class=\"sk-toggleable__label sk-toggleable__label-arrow\">RandomForestClassifier</label><div class=\"sk-toggleable__content\"><pre>RandomForestClassifier()</pre></div></div></div></div></div></div></div></div></div></div>"
            ]
          },
          "metadata": {},
          "execution_count": 24
        }
      ],
      "source": [
        "# Train the ensemble model\n",
        "ensemble_model.fit(np.concatenate((X_diabetes, X_heart, X_kidney, X_liver), axis=0), np.concatenate((y_diabetes, y_heart, y_kidney, y_liver), axis=0))"
      ]
    },
    {
      "cell_type": "code",
      "source": [
        "# More efficient target conversion\n",
        "def convert_targets(labels):\n",
        "    return [0 if label == 1 else 1 for label in labels]\n"
      ],
      "metadata": {
        "id": "_-P3b9-hKD11"
      },
      "execution_count": null,
      "outputs": []
    },
    {
      "cell_type": "code",
      "execution_count": 25,
      "metadata": {
        "colab": {
          "base_uri": "https://localhost:8080/"
        },
        "id": "jT_8xDsQHMGK",
        "outputId": "a9890230-b24a-410f-db56-257212da3731"
      },
      "outputs": [
        {
          "output_type": "stream",
          "name": "stdout",
          "text": [
            "Accuracy: 0.9923129484113427\n"
          ]
        }
      ],
      "source": [
        "# Evaluate the ensemble model\n",
        "accuracy = accuracy_score(np.concatenate((y_test_diabetes, y_test_heart, y_test_kidney, y_test_liver), axis=0), ensemble_model.predict(np.concatenate((X_test_diabetes, X_test_heart, X_test_kidney, X_test_liver), axis=0)))\n",
        "print('Accuracy:', accuracy)"
      ]
    },
    {
      "cell_type": "code",
      "source": [
        "# Make predictions on the test sets (assumes you've split each dataset into X_test_* and y_test_*)\n",
        "y_pred_diabetes = diabetes_model.predict(X_test_diabetes)\n",
        "y_pred_heart = heart_model.predict(X_test_heart)\n",
        "y_pred_kidney = kidney_model.predict(X_test_kidney)\n",
        "y_pred_liver = liver_model.predict(X_test_liver)"
      ],
      "metadata": {
        "id": "pnRBRoerHp57"
      },
      "execution_count": 26,
      "outputs": []
    },
    {
      "cell_type": "code",
      "source": [
        "# Make predictions using the ensemble model:\n",
        "y_pred_ensemble = ensemble_model.predict(np.concatenate((X_test_diabetes, X_test_heart, X_test_kidney, X_test_liver), axis=0))"
      ],
      "metadata": {
        "id": "Y_hrdArQHrpj"
      },
      "execution_count": 27,
      "outputs": []
    },
    {
      "cell_type": "code",
      "source": [
        "def calculate_metrics(X_test, y_test, y_pred, disease_name):\n",
        "    \"\"\"Calculates metrics for a specific disease dataset.\"\"\"\n",
        "\n",
        "    accuracy = accuracy_score(y_test, y_pred)\n",
        "    f1 = f1_score(y_test, y_pred, average='macro')\n",
        "    precision = precision_score(y_test, y_pred, average='macro')\n",
        "    recall = recall_score(y_test, y_pred, average='macro')\n",
        "    cm = confusion_matrix(y_test, y_pred)\n",
        "\n",
        "    print(f\"\\nMetrics for {disease_name} dataset:\")\n",
        "    print(\"Accuracy:\", accuracy)\n",
        "    print(\"F1-Score:\", f1)\n",
        "    print(\"Precision:\", precision)\n",
        "    print(\"Recall:\", recall)\n",
        "    print(\"Confusion Matrix:\\n\", cm)\n",
        "\n",
        "# ... Your code for loading datasets, splitting into train/test sets, and training models\n",
        "\n",
        "# Individual disease evaluation:\n",
        "calculate_metrics(X_test_diabetes, y_test_diabetes, y_pred_diabetes, 'diabetes')\n",
        "calculate_metrics(X_test_heart, y_test_heart, y_pred_heart, 'heart')\n",
        "calculate_metrics(X_test_kidney, y_test_kidney, y_pred_kidney, 'kidney')\n",
        "calculate_metrics(X_test_liver, y_test_liver, y_pred_liver, 'liver')\n",
        "\n"
      ],
      "metadata": {
        "colab": {
          "base_uri": "https://localhost:8080/"
        },
        "id": "XpCZqRMIUHDe",
        "outputId": "c790befb-097e-4c3a-9ba2-f7712d92f793"
      },
      "execution_count": 28,
      "outputs": [
        {
          "output_type": "stream",
          "name": "stdout",
          "text": [
            "\n",
            "Metrics for diabetes dataset:\n",
            "Accuracy: 0.8859649122807017\n",
            "F1-Score: 0.8680555555555556\n",
            "Precision: 0.8739602169981917\n",
            "Recall: 0.8629343629343629\n",
            "Confusion Matrix:\n",
            " [[143  11]\n",
            " [ 15  59]]\n",
            "\n",
            "Metrics for heart dataset:\n",
            "Accuracy: 0.8021978021978022\n",
            "F1-Score: 0.8002439024390244\n",
            "Precision: 0.8002439024390244\n",
            "Recall: 0.8002439024390244\n",
            "Confusion Matrix:\n",
            " [[32  9]\n",
            " [ 9 41]]\n",
            "\n",
            "Metrics for kidney dataset:\n",
            "Accuracy: 0.9833333333333333\n",
            "F1-Score: 0.9818785865297492\n",
            "Precision: 0.9871794871794872\n",
            "Recall: 0.9772727272727273\n",
            "Confusion Matrix:\n",
            " [[76  0]\n",
            " [ 2 42]]\n",
            "\n",
            "Metrics for liver dataset:\n",
            "Accuracy: 1.0\n",
            "F1-Score: 1.0\n",
            "Precision: 1.0\n",
            "Recall: 1.0\n",
            "Confusion Matrix:\n",
            " [[3880    0]\n",
            " [   0 1535]]\n"
          ]
        }
      ]
    },
    {
      "cell_type": "code",
      "source": [
        "def plot_confusion_matrix(y_true, y_pred, disease_name):\n",
        "    \"\"\"Plots the confusion matrix for a specific disease.\"\"\"\n",
        "\n",
        "    cm = confusion_matrix(y_true, y_pred)\n",
        "    plt.figure(figsize=(6, 4))  # Adjust figure size as needed\n",
        "    sns.heatmap(cm, annot=True, cmap='Blues', fmt='g',\n",
        "            xticklabels=['Class 0', 'Class 1'],\n",
        "            yticklabels=['Class 0', 'Class 1'])\n",
        "    plt.title(f'Confusion Matrix - {disease_name}')\n",
        "    tick_marks = np.arange(2)  # Assuming binary classification (0 and 1)\n",
        "    plt.xlabel('Predicted')\n",
        "    plt.ylabel('True')\n",
        "    plt.show()"
      ],
      "metadata": {
        "id": "bfrt-aLYU2Ec"
      },
      "execution_count": 53,
      "outputs": []
    },
    {
      "cell_type": "code",
      "source": [
        "# Plot confusion matrices for each disease:\n",
        "plot_confusion_matrix(y_test_diabetes, y_pred_diabetes, 'diabetes')\n",
        "plot_confusion_matrix(y_test_heart, y_pred_heart, 'heart')\n",
        "plot_confusion_matrix(y_test_kidney, y_pred_kidney, 'kidney')\n",
        "plot_confusion_matrix(y_test_liver, y_pred_liver, 'liver')"
      ],
      "metadata": {
        "colab": {
          "base_uri": "https://localhost:8080/",
          "height": 1000
        },
        "id": "D_KbrnkQU4iD",
        "outputId": "b02d795a-b4e9-449b-cb7b-3f0faba214e9"
      },
      "execution_count": 54,
      "outputs": [
        {
          "output_type": "display_data",
          "data": {
            "text/plain": [
              "<Figure size 600x400 with 2 Axes>"
            ],
            "image/png": "[encoded data removed]"
          },
          "metadata": {}
        },
        {
          "output_type": "display_data",
          "data": {
            "text/plain": [
              "<Figure size 600x400 with 2 Axes>"
            ],
            "image/png": "[encoded data removed]"
          },
          "metadata": {}
        },
        {
          "output_type": "display_data",
          "data": {
            "text/plain": [
              "<Figure size 600x400 with 2 Axes>"
            ],
            "image/png": "[encoded data removed]"
          },
          "metadata": {}
        },
        {
          "output_type": "display_data",
          "data": {
            "text/plain": [
              "<Figure size 600x400 with 2 Axes>"
            ],
            "image/png": "[encoded data removed]"
          },
          "metadata": {}
        }
      ]
    },
    {
      "cell_type": "code",
      "source": [
        "# Evaluate the ensemble model\n",
        "cm = confusion_matrix(np.concatenate((y_test_diabetes, y_test_heart, y_test_kidney, y_test_liver), axis=0), ensemble_model.predict(np.concatenate((X_test_diabetes, X_test_heart, X_test_kidney, X_test_liver), axis=0)))\n",
        "print('Confusion Matrix:', cm)"
      ],
      "metadata": {
        "colab": {
          "base_uri": "https://localhost:8080/"
        },
        "id": "1CJ-BMipIaha",
        "outputId": "13e6bdce-ff6c-4e0e-be7f-566397369b6b"
      },
      "execution_count": 46,
      "outputs": [
        {
          "output_type": "stream",
          "name": "stdout",
          "text": [
            "Confusion Matrix: [[4132   19]\n",
            " [  26 1677]]\n"
          ]
        }
      ]
    },
    {
      "cell_type": "code",
      "source": [
        "# Plotting the confusion matrix\n",
        "plt.figure(figsize=(6, 4))\n",
        "sns.heatmap(cm, annot=True, fmt=\"d\", cmap=\"Blues\", cbar=False)\n",
        "plt.xlabel(\"Predicted\")\n",
        "plt.ylabel(\"True\")\n",
        "plt.title(\"Confusion Matrix of Combined Model\")\n",
        "plt.show()"
      ],
      "metadata": {
        "id": "7QqagY3a_TrD",
        "outputId": "39422e17-6a39-4d2a-f587-65cbe5b2bf71",
        "colab": {
          "base_uri": "https://localhost:8080/",
          "height": 420
        }
      },
      "execution_count": 56,
      "outputs": [
        {
          "output_type": "display_data",
          "data": {
            "text/plain": [
              "<Figure size 600x400 with 1 Axes>"
            ],
            "image/png": "[encoded data removed]"
          },
          "metadata": {}
        }
      ]
    },
    {
      "cell_type": "code",
      "execution_count": 57,
      "metadata": {
        "id": "s7PHWGJ7NOSh"
      },
      "outputs": [],
      "source": [
        "import pickle\n",
        "\n",
        "# Save the trained ensemble model to a file\n",
        "with open('/content/ensemble_model.pkl', 'wb') as f:\n",
        "    pickle.dump(ensemble_model, f)\n"
      ]
    },
    {
      "cell_type": "code",
      "execution_count": 58,
      "metadata": {
        "id": "ah62tUgaN_NR"
      },
      "outputs": [],
      "source": [
        "# Load the saved model from file\n",
        "import pickle\n",
        "with open('ensemble_model.pkl', 'rb') as f:\n",
        "    loaded_model = pickle.load(f)"
      ]
    },
    {
      "cell_type": "code",
      "execution_count": 59,
      "metadata": {
        "colab": {
          "base_uri": "https://localhost:8080/"
        },
        "id": "sd_vVDHwkkyM",
        "outputId": "d44bd2dc-a4a5-40a3-acbd-eb2ead7201c6"
      },
      "outputs": [
        {
          "output_type": "stream",
          "name": "stdout",
          "text": [
            "Predicted heart disease status: 0\n",
            "Predicted Diabetes disease status: 0\n",
            "Predicted Liver disease status: 1\n",
            "Predicted Kidney disease status: 1\n"
          ]
        }
      ],
      "source": [
        "def predict_disease(disease_type, **kwargs):\n",
        "    with open('ensemble_model.pkl', 'rb') as f:\n",
        "        ensemble_model = pickle.load(f)\n",
        "\n",
        "    if disease_type == 'heart':\n",
        "        features = np.array([[kwargs.get('sex'), kwargs.get('cp'), kwargs.get('thalach'),\n",
        "                              kwargs.get('exang'), kwargs.get('oldpeak'), kwargs.get('slope'), kwargs.get('ca'), kwargs.get('thal')]])\n",
        "    elif disease_type == 'diabetes':\n",
        "        features = np.array([[kwargs.get('Glucose'), kwargs.get('SkinThickness'), kwargs.get('Insulin'), kwargs.get('BMI'),\n",
        "                              kwargs.get('Age'), kwargs.get('NewInsulinScore_Normal'), kwargs.get('NewGlucose_Normal'),\n",
        "                              kwargs.get('NewGlucose_Secret')]])\n",
        "    elif disease_type == 'liver':\n",
        "        features = np.array([[kwargs.get('Gender'), kwargs.get('Total_Bilirubin'),\n",
        "                              kwargs.get('Direct_Bilirubin'), kwargs.get('Alkaline_Phosphotase'),\n",
        "                              kwargs.get('Alamine_Aminotransferase'), kwargs.get('Aspartate_Aminotransferase'), kwargs.get('Albumin'),\n",
        "                              kwargs.get('Albumin_and_Globulin_Ratio')]])\n",
        "    elif disease_type == 'kidney':\n",
        "        features = np.array([[kwargs.get('specific_gravity'), kwargs.get('albumin'), kwargs.get('pus_cell'),\n",
        "                              kwargs.get('haemoglobin'), kwargs.get('packed_cell_volume'), kwargs.get('red_blood_cell_count'),\n",
        "                              kwargs.get('hypertension'), kwargs.get('diabetes_mellitus'),]])\n",
        "    else:\n",
        "        return \"Invalid disease type\"\n",
        "\n",
        "    prediction = ensemble_model.predict(features)\n",
        "    return prediction[0]\n",
        "\n",
        "# Call the function to predict heart disease\n",
        "prediction = predict_disease(disease_type='heart', sex=1, cp=0, thalach=4.948759890378168, exang=0, oldpeak=3.4, slope=1, ca=2, thal=3)\n",
        "print(\"Predicted heart disease status:\", prediction)\n",
        "# Call the function to predict diabetes\n",
        "prediction = predict_disease(disease_type='diabetes', Glucose=148, SkinThickness=0, Insulin=169, BMI=33.6, Age=50, NewInsulinScore_Normal=0, NewGlucose_Normal=0, NewGlucose_Secret=1)\n",
        "print(\"Predicted Diabetes disease status:\", prediction)\n",
        "# Call the function to predict liver disease\n",
        "prediction = predict_disease(disease_type='liver', Gender=2, Total_Bilirubin=1.6, Direct_Bilirubin=0.8, Alkaline_Phosphotase=230, Alamine_Aminotransferase=88, Aspartate_Aminotransferase=74, Albumin=4, Albumin_and_Globulin_Ratio=1.0)\n",
        "print(\"Predicted Liver disease status:\", prediction)\n",
        "# Call the function to predict kidney disease\n",
        "prediction = predict_disease(disease_type='kidney', specific_gravity=1.025, albumin=0.0, pus_cell=1, haemoglobin=15, packed_cell_volume=52, red_blood_cell_count=5.3, hypertension=0, diabetes_mellitus=0)\n",
        "print(\"Predicted Kidney disease status:\", prediction)\n"
      ]
    }
  ],
  "metadata": {
    "colab": {
      "provenance": []
    },
    "kernelspec": {
      "display_name": "Python 3 (ipykernel)",
      "language": "python",
      "name": "python3"
    },
    "language_info": {
      "codemirror_mode": {
        "name": "ipython",
        "version": 3
      },
      "file_extension": ".py",
      "mimetype": "text/x-python",
      "name": "python",
      "nbconvert_exporter": "python",
      "pygments_lexer": "ipython3",
      "version": "3.10.12"
    }
  },
  "nbformat": 4,
  "nbformat_minor": 0
}