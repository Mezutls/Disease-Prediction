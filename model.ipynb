{
  "cells": [
    {
      "cell_type": "code",
      "source": [
        "from google.colab import drive\n",
        "drive.mount('/content/drive')"
      ],
      "metadata": {
        "colab": {
          "base_uri": "https://localhost:8080/"
        },
        "id": "WrLnrUw2qCS9",
        "outputId": "67c92260-cfa7-49f3-8cf6-953513ee5ded"
      },
      "execution_count": 2,
      "outputs": [
        {
          "output_type": "stream",
          "name": "stdout",
          "text": [
            "Mounted at /content/drive\n"
          ]
        }
      ]
    },
    {
      "cell_type": "code",
      "execution_count": 3,
      "metadata": {
        "id": "bAGL4_xNy0uE"
      },
      "outputs": [],
      "source": [
        "# Importing the packages\n",
        "import numpy as np\n",
        "import pandas as pd\n",
        "#import statsmodels.api as sm\n",
        "import seaborn as sns\n",
        "import matplotlib.pyplot as plt\n",
        "from sklearn.preprocessing import scale, StandardScaler\n",
        "from sklearn.model_selection import train_test_split\n",
        "from sklearn.ensemble import RandomForestClassifier\n",
        "from sklearn.metrics import accuracy_score\n",
        "#from sklearn.model_selection import KFold\n",
        "from sklearn.ensemble import VotingClassifier\n",
        "import warnings\n",
        "warnings.simplefilter(action = \"ignore\")\n",
        "sns.set()\n",
        "plt.style.use('ggplot')\n",
        "%matplotlib inline"
      ]
    },
    {
      "cell_type": "code",
      "execution_count": 117,
      "metadata": {
        "id": "nrw49fFVzCnQ"
      },
      "outputs": [],
      "source": [
        "df_d=pd.read_csv('/content/drive/MyDrive/Disease Prediction 2/Cleaned Datasets/diabetescleaned.csv')\n",
        "df_h=pd.read_csv('/content/drive/MyDrive/Disease Prediction 2/Cleaned Datasets/heartcleaned.csv')\n",
        "df_k=pd.read_csv('/content/drive/MyDrive/Disease Prediction 2/Cleaned Datasets/kidneycleaned.csv')\n",
        "df_l=pd.read_csv('/content/drive/MyDrive/Disease Prediction 2/Cleaned Datasets/livercleaned.csv')"
      ]
    },
    {
      "cell_type": "code",
      "source": [
        "import pandas as pd\n",
        "\n",
        "def drop_weak_correlations_with_target(data, target_column, threshold):\n",
        "    \"\"\"Drops features with correlations below `threshold` (absolute value) with respect to the target column.  Assumes target is the last column .\n",
        "    Args:\n",
        "        data: A pandas DataFrame.\n",
        "        target_column: The name of the classification target feature.\n",
        "        threshold: The correlation coefficient threshold.\n",
        "\n",
        "    Returns:\n",
        "        A new DataFrame with weakly correlated features removed.\n",
        "    \"\"\"\n",
        "    correlations = data.corr()[target_column].abs()[:-1]  # Exclude the target itself\n",
        "    weak_features = correlations[correlations < threshold].index\n",
        "    return data.drop(weak_features, axis=1)\n",
        "\n",
        "def get_feature_count(data, target_column, threshold):\n",
        "    new_data = drop_weak_correlations_with_target(data.copy(), target_column, threshold)\n",
        "    return len(new_data.columns) - 1  # Subtract 1 for the target column\n",
        "\n",
        "def find_threshold(datasets, target_column, desired_feature_count):\n",
        "    threshold = 0.0\n",
        "    increment = 0.1\n",
        "\n",
        "    while True:\n",
        "        feature_counts = [get_feature_count(data, target_column, threshold) for data in datasets]\n",
        "        min_features = min(feature_counts)\n",
        "        max_features = max(feature_counts)\n",
        "\n",
        "        if min_features == max_features == desired_feature_count:\n",
        "            return threshold\n",
        "\n",
        "        if max_features > desired_feature_count:\n",
        "            threshold += increment\n",
        "        else:\n",
        "            threshold -= increment\n",
        "            increment /= 2\n",
        "\n",
        "\n"
      ],
      "metadata": {
        "id": "LZtKTsxg-5_b"
      },
      "execution_count": 119,
      "outputs": []
    },
    {
      "cell_type": "code",
      "source": [
        "# ... (Load your datasets df_d, df_h, df_k, and df_l)\n",
        "datasets=[df_k]\n",
        "target_column = \"class\"  # Example; adjust accordingly\n",
        "desired_feature_count = 8\n",
        "\n",
        "final_threshold = find_threshold(datasets.copy(), target_column, desired_feature_count)\n",
        "print(\"Final Threshold:\", final_threshold)"
      ],
      "metadata": {
        "colab": {
          "base_uri": "https://localhost:8080/"
        },
        "id": "7ZBFNWZm-5yI",
        "outputId": "22490f4c-5b48-4b16-a2e5-8d540a8e6fc4"
      },
      "execution_count": 124,
      "outputs": [
        {
          "output_type": "stream",
          "name": "stdout",
          "text": [
            "Final Threshold: 0.39375000000000004\n"
          ]
        }
      ]
    },
    {
      "cell_type": "code",
      "source": [
        "# Your dataset and target column (assuming 'Outcome' is the correct target for the kidney disease dataset)\n",
        "data = df_k.copy()  # Make a copy to avoid modifying your original dataset\n",
        "target_column = \"class\"\n",
        "\n",
        "# The threshold determined using the iterative process\n",
        "final_threshold = 0.39375000000000004\n",
        "\n",
        "# Calling the function to drop weakly correlated features\n",
        "new_data_k = drop_weak_correlations_with_target(data, target_column, final_threshold)\n",
        "\n",
        "print(new_data_k.head())  # Display the first few rows of the modified dataset"
      ],
      "metadata": {
        "colab": {
          "base_uri": "https://localhost:8080/"
        },
        "id": "Gp4Xz1NtBFyk",
        "outputId": "730a9d27-5ee1-41dd-cea9-547c50755997"
      },
      "execution_count": 125,
      "outputs": [
        {
          "output_type": "stream",
          "name": "stdout",
          "text": [
            "   specific_gravity  albumin  pus_cell  haemoglobin  packed_cell_volume  \\\n",
            "0             1.020      1.0         1         15.4                44.0   \n",
            "1             1.020      4.0         1         11.3                38.0   \n",
            "2             1.010      2.0         1          9.6                31.0   \n",
            "3             1.005      4.0         0         11.2                32.0   \n",
            "4             1.010      2.0         1         11.6                35.0   \n",
            "\n",
            "   red_blood_cell_count  hypertension  diabetes_mellitus  class  \n",
            "0                   5.2             1                  1      0  \n",
            "1                   2.1             0                  0      0  \n",
            "2                   5.7             0                  1      0  \n",
            "3                   3.9             1                  0      0  \n",
            "4                   4.6             0                  0      0  \n"
          ]
        }
      ]
    },
    {
      "cell_type": "code",
      "source": [
        "# ... (Load your datasets df_d, df_h, df_k, and df_l)\n",
        "datasets=[df_h]\n",
        "target_column = \"target\"  # Example; adjust accordingly\n",
        "desired_feature_count = 8\n",
        "\n",
        "final_threshold = find_threshold(datasets.copy(), target_column, desired_feature_count)\n",
        "print(\"Final Threshold:\", final_threshold)"
      ],
      "metadata": {
        "colab": {
          "base_uri": "https://localhost:8080/"
        },
        "id": "DUuE6DMcBZiY",
        "outputId": "76f55576-7195-4508-be95-ca2027fd4334"
      },
      "execution_count": 126,
      "outputs": [
        {
          "output_type": "stream",
          "name": "stdout",
          "text": [
            "Final Threshold: 0.25000000000000006\n"
          ]
        }
      ]
    },
    {
      "cell_type": "code",
      "source": [
        "# Your dataset and target column (assuming 'Outcome' is the correct target for the kidney disease dataset)\n",
        "data = df_h.copy()  # Make a copy to avoid modifying your original dataset\n",
        "target_column = \"target\"\n",
        "\n",
        "# The threshold determined using the iterative process\n",
        "final_threshold = 0.25000000000000006\n",
        "\n",
        "# Calling the function to drop weakly correlated features\n",
        "new_data_h = drop_weak_correlations_with_target(data, target_column, final_threshold)\n",
        "\n",
        "print(new_data_h.head())  # Display the first few rows of the modified dataset"
      ],
      "metadata": {
        "colab": {
          "base_uri": "https://localhost:8080/"
        },
        "id": "m58A89mWBt9L",
        "outputId": "8517316a-1fab-4f57-f055-450b86829c36"
      },
      "execution_count": 127,
      "outputs": [
        {
          "output_type": "stream",
          "name": "stdout",
          "text": [
            "   sex  cp   thalach  exang  oldpeak  slope  ca  thal  target\n",
            "0    1   3  5.010635      0      2.3      0   0     1       1\n",
            "1    1   2  5.231109      0      3.5      0   0     2       1\n",
            "2    0   1  5.147494      0      1.4      2   0     2       1\n",
            "3    1   1  5.181784      0      0.8      2   0     2       1\n",
            "4    0   0  5.093750      1      0.6      2   0     2       1\n"
          ]
        }
      ]
    },
    {
      "cell_type": "code",
      "source": [
        "# ... (Load your datasets df_d, df_h, df_k, and df_l)\n",
        "datasets=[df_d]\n",
        "target_column = \"Outcome\"  # Example; adjust accordingly\n",
        "desired_feature_count = 8\n",
        "\n",
        "final_threshold = find_threshold(datasets.copy(), target_column, desired_feature_count)\n",
        "print(\"Final Threshold:\", final_threshold)"
      ],
      "metadata": {
        "colab": {
          "base_uri": "https://localhost:8080/"
        },
        "id": "5GsAzECs9leF",
        "outputId": "a95ddf9e-9947-4e23-d13a-da617ab442ea"
      },
      "execution_count": 129,
      "outputs": [
        {
          "output_type": "stream",
          "name": "stdout",
          "text": [
            "Final Threshold: 0.23750000000000007\n"
          ]
        }
      ]
    },
    {
      "cell_type": "code",
      "source": [
        "# Your dataset and target column (assuming 'Outcome' is the correct target for the kidney disease dataset)\n",
        "data = df_d.copy()  # Make a copy to avoid modifying your original dataset\n",
        "target_column = \"Outcome\"\n",
        "\n",
        "# The threshold determined using the iterative process\n",
        "final_threshold = 0.23750000000000007\n",
        "\n",
        "# Calling the function to drop weakly correlated features\n",
        "new_data_d = drop_weak_correlations_with_target(data, target_column, final_threshold)\n",
        "\n",
        "print(new_data_d.head())  # Display the first few rows of the modified dataset"
      ],
      "metadata": {
        "colab": {
          "base_uri": "https://localhost:8080/"
        },
        "id": "yXNahxav9lU9",
        "outputId": "f18fa34d-a66e-496f-d846-4c559f6e319f"
      },
      "execution_count": 131,
      "outputs": [
        {
          "output_type": "stream",
          "name": "stdout",
          "text": [
            "   Glucose  SkinThickness  Insulin   BMI  Age  Outcome  \\\n",
            "0    148.0           35.0    169.5  33.6   50        1   \n",
            "1     85.0           29.0    102.5  26.6   31        0   \n",
            "2    183.0           32.0    169.5  23.3   32        1   \n",
            "3     89.0           23.0     94.0  28.1   21        0   \n",
            "4    137.0           35.0    168.0  43.1   33        1   \n",
            "\n",
            "   NewInsulinScore_Normal  NewGlucose_Normal  NewGlucose_Secret  \n",
            "0                       0                  0                  1  \n",
            "1                       1                  1                  0  \n",
            "2                       0                  0                  1  \n",
            "3                       1                  1                  0  \n",
            "4                       0                  0                  1  \n"
          ]
        }
      ]
    },
    {
      "cell_type": "code",
      "source": [
        "# ... (Load your datasets df_d, df_h, df_k, and df_l)\n",
        "datasets=[df_l]\n",
        "target_column = \"Result\"  # Example; adjust accordingly\n",
        "desired_feature_count = 8\n",
        "\n",
        "final_threshold = find_threshold(datasets.copy(), target_column, desired_feature_count)\n",
        "print(\"Final Threshold:\", final_threshold)"
      ],
      "metadata": {
        "colab": {
          "base_uri": "https://localhost:8080/"
        },
        "id": "WK0xvFhd9lLU",
        "outputId": "ad6557ff-3318-4e64-e5ee-567e4418f16f"
      },
      "execution_count": 133,
      "outputs": [
        {
          "output_type": "stream",
          "name": "stdout",
          "text": [
            "Final Threshold: 0.1\n"
          ]
        }
      ]
    },
    {
      "cell_type": "code",
      "source": [
        "# Your dataset and target column (assuming 'Outcome' is the correct target for the kidney disease dataset)\n",
        "data = df_l.copy()  # Make a copy to avoid modifying your original dataset\n",
        "target_column = \"Result\"\n",
        "\n",
        "# The threshold determined using the iterative process\n",
        "final_threshold = 0.1\n",
        "\n",
        "# Calling the function to drop weakly correlated features\n",
        "new_data_l = drop_weak_correlations_with_target(data, target_column, final_threshold)\n",
        "\n",
        "print(new_data_l.head())  # Display the first few rows of the modified dataset"
      ],
      "metadata": {
        "colab": {
          "base_uri": "https://localhost:8080/"
        },
        "id": "p4vL05g-9lCu",
        "outputId": "8c2f5477-2e11-465d-aa86-879aae7a16b0"
      },
      "execution_count": 134,
      "outputs": [
        {
          "output_type": "stream",
          "name": "stdout",
          "text": [
            "   Gender  Total Bilirubin  Direct Bilirubin  Alkaline_Phosphotase  \\\n",
            "0  Female              0.7               0.1                 187.0   \n",
            "1    Male             10.9               5.5                 699.0   \n",
            "2    Male              7.3               4.1                 490.0   \n",
            "3    Male              1.0               0.4                 182.0   \n",
            "4    Male              3.9               2.0                 195.0   \n",
            "\n",
            "   Alamine_Aminotransferase  Aspartate_Aminotransferase  Albumin  \\\n",
            "0                      16.0                        18.0      3.3   \n",
            "1                      64.0                       100.0      3.2   \n",
            "2                      60.0                        68.0      3.3   \n",
            "3                      14.0                        20.0      3.4   \n",
            "4                      27.0                        59.0      2.4   \n",
            "\n",
            "   Albumin_and_Globulin Ratio  Result  \n",
            "0                        0.90       1  \n",
            "1                        0.74       1  \n",
            "2                        0.89       1  \n",
            "3                        1.00       1  \n",
            "4                        0.40       1  \n"
          ]
        }
      ]
    },
    {
      "cell_type": "code",
      "execution_count": 135,
      "metadata": {
        "id": "vFoMAys9EEpD"
      },
      "outputs": [],
      "source": [
        "## if score==negative, mark 0 ;else 1\n",
        "def partition(x):\n",
        "    if x =='Male':\n",
        "        return 0\n",
        "    return 1\n",
        "\n",
        "new_data_l['Gender'] = new_data_l['Gender'].map(partition)"
      ]
    },
    {
      "cell_type": "code",
      "execution_count": 140,
      "metadata": {
        "colab": {
          "base_uri": "https://localhost:8080/",
          "height": 380
        },
        "id": "-N63t4Ie7MWN",
        "outputId": "ecd06b3e-4d65-4665-a7a3-1e2970e6eb98"
      },
      "outputs": [
        {
          "output_type": "execute_result",
          "data": {
            "text/plain": [
              "   Gender  Total Bilirubin  Direct Bilirubin  Alkaline_Phosphotase  \\\n",
              "0       1              0.7               0.1                 187.0   \n",
              "1       0             10.9               5.5                 699.0   \n",
              "2       0              7.3               4.1                 490.0   \n",
              "3       0              1.0               0.4                 182.0   \n",
              "4       0              3.9               2.0                 195.0   \n",
              "5       0              1.8               0.7                 208.0   \n",
              "6       1              0.9               0.3                 202.0   \n",
              "7       0              0.9               0.3                 202.0   \n",
              "8       0              0.7               0.2                 290.0   \n",
              "9       0              0.6               0.1                 210.0   \n",
              "\n",
              "   Alamine_Aminotransferase  Aspartate_Aminotransferase  Albumin  \\\n",
              "0                      16.0                        18.0      3.3   \n",
              "1                      64.0                       100.0      3.2   \n",
              "2                      60.0                        68.0      3.3   \n",
              "3                      14.0                        20.0      3.4   \n",
              "4                      27.0                        59.0      2.4   \n",
              "5                      19.0                        14.0      4.4   \n",
              "6                      14.0                        11.0      3.6   \n",
              "7                      22.0                        19.0      4.1   \n",
              "8                      53.0                        58.0      3.4   \n",
              "9                      51.0                        59.0      2.7   \n",
              "\n",
              "   Albumin_and_Globulin Ratio  Result  \n",
              "0                        0.90       1  \n",
              "1                        0.74       1  \n",
              "2                        0.89       1  \n",
              "3                        1.00       1  \n",
              "4                        0.40       1  \n",
              "5                        1.30       1  \n",
              "6                        1.10       1  \n",
              "7                        1.20       2  \n",
              "8                        1.00       1  \n",
              "9                        0.80       1  "
            ],
            "text/html": [
              "\n",
              "  <div id=\"df-bf20bf02-f499-48da-9279-06c412abdcbc\" class=\"colab-df-container\">\n",
              "    <div>\n",
              "<style scoped>\n",
              "    .dataframe tbody tr th:only-of-type {\n",
              "        vertical-align: middle;\n",
              "    }\n",
              "\n",
              "    .dataframe tbody tr th {\n",
              "        vertical-align: top;\n",
              "    }\n",
              "\n",
              "    .dataframe thead th {\n",
              "        text-align: right;\n",
              "    }\n",
              "</style>\n",
              "<table border=\"1\" class=\"dataframe\">\n",
              "  <thead>\n",
              "    <tr style=\"text-align: right;\">\n",
              "      <th></th>\n",
              "      <th>Gender</th>\n",
              "      <th>Total Bilirubin</th>\n",
              "      <th>Direct Bilirubin</th>\n",
              "      <th>Alkaline_Phosphotase</th>\n",
              "      <th>Alamine_Aminotransferase</th>\n",
              "      <th>Aspartate_Aminotransferase</th>\n",
              "      <th>Albumin</th>\n",
              "      <th>Albumin_and_Globulin Ratio</th>\n",
              "      <th>Result</th>\n",
              "    </tr>\n",
              "  </thead>\n",
              "  <tbody>\n",
              "    <tr>\n",
              "      <th>0</th>\n",
              "      <td>1</td>\n",
              "      <td>0.7</td>\n",
              "      <td>0.1</td>\n",
              "      <td>187.0</td>\n",
              "      <td>16.0</td>\n",
              "      <td>18.0</td>\n",
              "      <td>3.3</td>\n",
              "      <td>0.90</td>\n",
              "      <td>1</td>\n",
              "    </tr>\n",
              "    <tr>\n",
              "      <th>1</th>\n",
              "      <td>0</td>\n",
              "      <td>10.9</td>\n",
              "      <td>5.5</td>\n",
              "      <td>699.0</td>\n",
              "      <td>64.0</td>\n",
              "      <td>100.0</td>\n",
              "      <td>3.2</td>\n",
              "      <td>0.74</td>\n",
              "      <td>1</td>\n",
              "    </tr>\n",
              "    <tr>\n",
              "      <th>2</th>\n",
              "      <td>0</td>\n",
              "      <td>7.3</td>\n",
              "      <td>4.1</td>\n",
              "      <td>490.0</td>\n",
              "      <td>60.0</td>\n",
              "      <td>68.0</td>\n",
              "      <td>3.3</td>\n",
              "      <td>0.89</td>\n",
              "      <td>1</td>\n",
              "    </tr>\n",
              "    <tr>\n",
              "      <th>3</th>\n",
              "      <td>0</td>\n",
              "      <td>1.0</td>\n",
              "      <td>0.4</td>\n",
              "      <td>182.0</td>\n",
              "      <td>14.0</td>\n",
              "      <td>20.0</td>\n",
              "      <td>3.4</td>\n",
              "      <td>1.00</td>\n",
              "      <td>1</td>\n",
              "    </tr>\n",
              "    <tr>\n",
              "      <th>4</th>\n",
              "      <td>0</td>\n",
              "      <td>3.9</td>\n",
              "      <td>2.0</td>\n",
              "      <td>195.0</td>\n",
              "      <td>27.0</td>\n",
              "      <td>59.0</td>\n",
              "      <td>2.4</td>\n",
              "      <td>0.40</td>\n",
              "      <td>1</td>\n",
              "    </tr>\n",
              "    <tr>\n",
              "      <th>5</th>\n",
              "      <td>0</td>\n",
              "      <td>1.8</td>\n",
              "      <td>0.7</td>\n",
              "      <td>208.0</td>\n",
              "      <td>19.0</td>\n",
              "      <td>14.0</td>\n",
              "      <td>4.4</td>\n",
              "      <td>1.30</td>\n",
              "      <td>1</td>\n",
              "    </tr>\n",
              "    <tr>\n",
              "      <th>6</th>\n",
              "      <td>1</td>\n",
              "      <td>0.9</td>\n",
              "      <td>0.3</td>\n",
              "      <td>202.0</td>\n",
              "      <td>14.0</td>\n",
              "      <td>11.0</td>\n",
              "      <td>3.6</td>\n",
              "      <td>1.10</td>\n",
              "      <td>1</td>\n",
              "    </tr>\n",
              "    <tr>\n",
              "      <th>7</th>\n",
              "      <td>0</td>\n",
              "      <td>0.9</td>\n",
              "      <td>0.3</td>\n",
              "      <td>202.0</td>\n",
              "      <td>22.0</td>\n",
              "      <td>19.0</td>\n",
              "      <td>4.1</td>\n",
              "      <td>1.20</td>\n",
              "      <td>2</td>\n",
              "    </tr>\n",
              "    <tr>\n",
              "      <th>8</th>\n",
              "      <td>0</td>\n",
              "      <td>0.7</td>\n",
              "      <td>0.2</td>\n",
              "      <td>290.0</td>\n",
              "      <td>53.0</td>\n",
              "      <td>58.0</td>\n",
              "      <td>3.4</td>\n",
              "      <td>1.00</td>\n",
              "      <td>1</td>\n",
              "    </tr>\n",
              "    <tr>\n",
              "      <th>9</th>\n",
              "      <td>0</td>\n",
              "      <td>0.6</td>\n",
              "      <td>0.1</td>\n",
              "      <td>210.0</td>\n",
              "      <td>51.0</td>\n",
              "      <td>59.0</td>\n",
              "      <td>2.7</td>\n",
              "      <td>0.80</td>\n",
              "      <td>1</td>\n",
              "    </tr>\n",
              "  </tbody>\n",
              "</table>\n",
              "</div>\n",
              "    <div class=\"colab-df-buttons\">\n",
              "\n",
              "  <div class=\"colab-df-container\">\n",
              "    <button class=\"colab-df-convert\" onclick=\"convertToInteractive('df-bf20bf02-f499-48da-9279-06c412abdcbc')\"\n",
              "            title=\"Convert this dataframe to an interactive table.\"\n",
              "            style=\"display:none;\">\n",
              "\n",
              "  <svg xmlns=\"http://www.w3.org/2000/svg\" height=\"24px\" viewBox=\"0 -960 960 960\">\n",
              "    <path d=\"M120-120v-720h720v720H120Zm60-500h600v-160H180v160Zm220 220h160v-160H400v160Zm0 220h160v-160H400v160ZM180-400h160v-160H180v160Zm440 0h160v-160H620v160ZM180-180h160v-160H180v160Zm440 0h160v-160H620v160Z\"/>\n",
              "  </svg>\n",
              "    </button>\n",
              "\n",
              "  <style>\n",
              "    .colab-df-container {\n",
              "      display:flex;\n",
              "      gap: 12px;\n",
              "    }\n",
              "\n",
              "    .colab-df-convert {\n",
              "      background-color: #E8F0FE;\n",
              "      border: none;\n",
              "      border-radius: 50%;\n",
              "      cursor: pointer;\n",
              "      display: none;\n",
              "      fill: #1967D2;\n",
              "      height: 32px;\n",
              "      padding: 0 0 0 0;\n",
              "      width: 32px;\n",
              "    }\n",
              "\n",
              "    .colab-df-convert:hover {\n",
              "      background-color: #E2EBFA;\n",
              "      box-shadow: 0px 1px 2px rgba(60, 64, 67, 0.3), 0px 1px 3px 1px rgba(60, 64, 67, 0.15);\n",
              "      fill: #174EA6;\n",
              "    }\n",
              "\n",
              "    .colab-df-buttons div {\n",
              "      margin-bottom: 4px;\n",
              "    }\n",
              "\n",
              "    [theme=dark] .colab-df-convert {\n",
              "      background-color: #3B4455;\n",
              "      fill: #D2E3FC;\n",
              "    }\n",
              "\n",
              "    [theme=dark] .colab-df-convert:hover {\n",
              "      background-color: #434B5C;\n",
              "      box-shadow: 0px 1px 3px 1px rgba(0, 0, 0, 0.15);\n",
              "      filter: drop-shadow(0px 1px 2px rgba(0, 0, 0, 0.3));\n",
              "      fill: #FFFFFF;\n",
              "    }\n",
              "  </style>\n",
              "\n",
              "    <script>\n",
              "      const buttonEl =\n",
              "        document.querySelector('#df-bf20bf02-f499-48da-9279-06c412abdcbc button.colab-df-convert');\n",
              "      buttonEl.style.display =\n",
              "        google.colab.kernel.accessAllowed ? 'block' : 'none';\n",
              "\n",
              "      async function convertToInteractive(key) {\n",
              "        const element = document.querySelector('#df-bf20bf02-f499-48da-9279-06c412abdcbc');\n",
              "        const dataTable =\n",
              "          await google.colab.kernel.invokeFunction('convertToInteractive',\n",
              "                                                    [key], {});\n",
              "        if (!dataTable) return;\n",
              "\n",
              "        const docLinkHtml = 'Like what you see? Visit the ' +\n",
              "          '<a target=\"_blank\" href=https://colab.research.google.com/notebooks/data_table.ipynb>data table notebook</a>'\n",
              "          + ' to learn more about interactive tables.';\n",
              "        element.innerHTML = '';\n",
              "        dataTable['output_type'] = 'display_data';\n",
              "        await google.colab.output.renderOutput(dataTable, element);\n",
              "        const docLink = document.createElement('div');\n",
              "        docLink.innerHTML = docLinkHtml;\n",
              "        element.appendChild(docLink);\n",
              "      }\n",
              "    </script>\n",
              "  </div>\n",
              "\n",
              "\n",
              "<div id=\"df-bb72538d-2b86-4016-a223-4c741b2727a4\">\n",
              "  <button class=\"colab-df-quickchart\" onclick=\"quickchart('df-bb72538d-2b86-4016-a223-4c741b2727a4')\"\n",
              "            title=\"Suggest charts\"\n",
              "            style=\"display:none;\">\n",
              "\n",
              "<svg xmlns=\"http://www.w3.org/2000/svg\" height=\"24px\"viewBox=\"0 0 24 24\"\n",
              "     width=\"24px\">\n",
              "    <g>\n",
              "        <path d=\"M19 3H5c-1.1 0-2 .9-2 2v14c0 1.1.9 2 2 2h14c1.1 0 2-.9 2-2V5c0-1.1-.9-2-2-2zM9 17H7v-7h2v7zm4 0h-2V7h2v10zm4 0h-2v-4h2v4z\"/>\n",
              "    </g>\n",
              "</svg>\n",
              "  </button>\n",
              "\n",
              "<style>\n",
              "  .colab-df-quickchart {\n",
              "      --bg-color: #E8F0FE;\n",
              "      --fill-color: #1967D2;\n",
              "      --hover-bg-color: #E2EBFA;\n",
              "      --hover-fill-color: #174EA6;\n",
              "      --disabled-fill-color: #AAA;\n",
              "      --disabled-bg-color: #DDD;\n",
              "  }\n",
              "\n",
              "  [theme=dark] .colab-df-quickchart {\n",
              "      --bg-color: #3B4455;\n",
              "      --fill-color: #D2E3FC;\n",
              "      --hover-bg-color: #434B5C;\n",
              "      --hover-fill-color: #FFFFFF;\n",
              "      --disabled-bg-color: #3B4455;\n",
              "      --disabled-fill-color: #666;\n",
              "  }\n",
              "\n",
              "  .colab-df-quickchart {\n",
              "    background-color: var(--bg-color);\n",
              "    border: none;\n",
              "    border-radius: 50%;\n",
              "    cursor: pointer;\n",
              "    display: none;\n",
              "    fill: var(--fill-color);\n",
              "    height: 32px;\n",
              "    padding: 0;\n",
              "    width: 32px;\n",
              "  }\n",
              "\n",
              "  .colab-df-quickchart:hover {\n",
              "    background-color: var(--hover-bg-color);\n",
              "    box-shadow: 0 1px 2px rgba(60, 64, 67, 0.3), 0 1px 3px 1px rgba(60, 64, 67, 0.15);\n",
              "    fill: var(--button-hover-fill-color);\n",
              "  }\n",
              "\n",
              "  .colab-df-quickchart-complete:disabled,\n",
              "  .colab-df-quickchart-complete:disabled:hover {\n",
              "    background-color: var(--disabled-bg-color);\n",
              "    fill: var(--disabled-fill-color);\n",
              "    box-shadow: none;\n",
              "  }\n",
              "\n",
              "  .colab-df-spinner {\n",
              "    border: 2px solid var(--fill-color);\n",
              "    border-color: transparent;\n",
              "    border-bottom-color: var(--fill-color);\n",
              "    animation:\n",
              "      spin 1s steps(1) infinite;\n",
              "  }\n",
              "\n",
              "  @keyframes spin {\n",
              "    0% {\n",
              "      border-color: transparent;\n",
              "      border-bottom-color: var(--fill-color);\n",
              "      border-left-color: var(--fill-color);\n",
              "    }\n",
              "    20% {\n",
              "      border-color: transparent;\n",
              "      border-left-color: var(--fill-color);\n",
              "      border-top-color: var(--fill-color);\n",
              "    }\n",
              "    30% {\n",
              "      border-color: transparent;\n",
              "      border-left-color: var(--fill-color);\n",
              "      border-top-color: var(--fill-color);\n",
              "      border-right-color: var(--fill-color);\n",
              "    }\n",
              "    40% {\n",
              "      border-color: transparent;\n",
              "      border-right-color: var(--fill-color);\n",
              "      border-top-color: var(--fill-color);\n",
              "    }\n",
              "    60% {\n",
              "      border-color: transparent;\n",
              "      border-right-color: var(--fill-color);\n",
              "    }\n",
              "    80% {\n",
              "      border-color: transparent;\n",
              "      border-right-color: var(--fill-color);\n",
              "      border-bottom-color: var(--fill-color);\n",
              "    }\n",
              "    90% {\n",
              "      border-color: transparent;\n",
              "      border-bottom-color: var(--fill-color);\n",
              "    }\n",
              "  }\n",
              "</style>\n",
              "\n",
              "  <script>\n",
              "    async function quickchart(key) {\n",
              "      const quickchartButtonEl =\n",
              "        document.querySelector('#' + key + ' button');\n",
              "      quickchartButtonEl.disabled = true;  // To prevent multiple clicks.\n",
              "      quickchartButtonEl.classList.add('colab-df-spinner');\n",
              "      try {\n",
              "        const charts = await google.colab.kernel.invokeFunction(\n",
              "            'suggestCharts', [key], {});\n",
              "      } catch (error) {\n",
              "        console.error('Error during call to suggestCharts:', error);\n",
              "      }\n",
              "      quickchartButtonEl.classList.remove('colab-df-spinner');\n",
              "      quickchartButtonEl.classList.add('colab-df-quickchart-complete');\n",
              "    }\n",
              "    (() => {\n",
              "      let quickchartButtonEl =\n",
              "        document.querySelector('#df-bb72538d-2b86-4016-a223-4c741b2727a4 button');\n",
              "      quickchartButtonEl.style.display =\n",
              "        google.colab.kernel.accessAllowed ? 'block' : 'none';\n",
              "    })();\n",
              "  </script>\n",
              "</div>\n",
              "\n",
              "    </div>\n",
              "  </div>\n"
            ],
            "application/vnd.google.colaboratory.intrinsic+json": {
              "type": "dataframe",
              "variable_name": "new_data_l",
              "summary": "{\n  \"name\": \"new_data_l\",\n  \"rows\": 27071,\n  \"fields\": [\n    {\n      \"column\": \"Gender\",\n      \"properties\": {\n        \"dtype\": \"number\",\n        \"std\": 0,\n        \"min\": 0,\n        \"max\": 1,\n        \"num_unique_values\": 2,\n        \"samples\": [\n          0,\n          1\n        ],\n        \"semantic_type\": \"\",\n        \"description\": \"\"\n      }\n    },\n    {\n      \"column\": \"Total Bilirubin\",\n      \"properties\": {\n        \"dtype\": \"number\",\n        \"std\": 6.3237020564953035,\n        \"min\": 0.4,\n        \"max\": 75.0,\n        \"num_unique_values\": 112,\n        \"samples\": [\n          1.7,\n          14.5\n        ],\n        \"semantic_type\": \"\",\n        \"description\": \"\"\n      }\n    },\n    {\n      \"column\": \"Direct Bilirubin\",\n      \"properties\": {\n        \"dtype\": \"number\",\n        \"std\": 2.8890855437199585,\n        \"min\": 0.1,\n        \"max\": 19.7,\n        \"num_unique_values\": 79,\n        \"samples\": [\n          11.3,\n          0.1\n        ],\n        \"semantic_type\": \"\",\n        \"description\": \"\"\n      }\n    },\n    {\n      \"column\": \"Alkaline_Phosphotase\",\n      \"properties\": {\n        \"dtype\": \"number\",\n        \"std\": 237.71081010665847,\n        \"min\": 63.0,\n        \"max\": 2110.0,\n        \"num_unique_values\": 261,\n        \"samples\": [\n          630.0,\n          505.0\n        ],\n        \"semantic_type\": \"\",\n        \"description\": \"\"\n      }\n    },\n    {\n      \"column\": \"Alamine_Aminotransferase\",\n      \"properties\": {\n        \"dtype\": \"number\",\n        \"std\": 157.78392761276774,\n        \"min\": 10.0,\n        \"max\": 2000.0,\n        \"num_unique_values\": 152,\n        \"samples\": [\n          50.0,\n          1350.0\n        ],\n        \"semantic_type\": \"\",\n        \"description\": \"\"\n      }\n    },\n    {\n      \"column\": \"Aspartate_Aminotransferase\",\n      \"properties\": {\n        \"dtype\": \"number\",\n        \"std\": 175.0316221640727,\n        \"min\": 10.0,\n        \"max\": 1600.0,\n        \"num_unique_values\": 175,\n        \"samples\": [\n          220.0,\n          76.0\n        ],\n        \"semantic_type\": \"\",\n        \"description\": \"\"\n      }\n    },\n    {\n      \"column\": \"Albumin\",\n      \"properties\": {\n        \"dtype\": \"number\",\n        \"std\": 0.7930440608689397,\n        \"min\": 0.9,\n        \"max\": 5.5,\n        \"num_unique_values\": 40,\n        \"samples\": [\n          2.8,\n          1.5\n        ],\n        \"semantic_type\": \"\",\n        \"description\": \"\"\n      }\n    },\n    {\n      \"column\": \"Albumin_and_Globulin Ratio\",\n      \"properties\": {\n        \"dtype\": \"number\",\n        \"std\": 0.32392487455592095,\n        \"min\": 0.3,\n        \"max\": 2.8,\n        \"num_unique_values\": 69,\n        \"samples\": [\n          1.6,\n          0.9\n        ],\n        \"semantic_type\": \"\",\n        \"description\": \"\"\n      }\n    },\n    {\n      \"column\": \"Result\",\n      \"properties\": {\n        \"dtype\": \"number\",\n        \"std\": 0,\n        \"min\": 1,\n        \"max\": 2,\n        \"num_unique_values\": 2,\n        \"samples\": [\n          2,\n          1\n        ],\n        \"semantic_type\": \"\",\n        \"description\": \"\"\n      }\n    }\n  ]\n}"
            }
          },
          "metadata": {},
          "execution_count": 140
        }
      ],
      "source": [
        "new_data_l.head(10)"
      ]
    },
    {
      "cell_type": "code",
      "execution_count": 141,
      "metadata": {
        "id": "K4pY7U-W2WrK"
      },
      "outputs": [],
      "source": [
        "# Split the data into training and testing sets\n",
        "X_diabetes, X_test_diabetes, y_diabetes, y_test_diabetes = train_test_split(new_data_d.drop('Outcome', axis=1), new_data_d['Outcome'], test_size=0.2, random_state=42)\n",
        "X_heart, X_test_heart, y_heart, y_test_heart = train_test_split(new_data_h.drop('target', axis=1), new_data_h['target'], test_size=0.2, random_state=42)\n",
        "X_kidney, X_test_kidney, y_kidney, y_test_kidney = train_test_split(new_data_k.drop('class', axis=1), new_data_k['class'], test_size=0.2, random_state=42)\n",
        "X_liver, X_test_liver, y_liver, y_test_liver = train_test_split(new_data_l.drop('Result', axis=1), new_data_l['Result'], test_size=0.2, random_state=42)"
      ]
    },
    {
      "cell_type": "code",
      "execution_count": 142,
      "metadata": {
        "id": "H58z-Dc4C-38"
      },
      "outputs": [],
      "source": [
        "# Create the individual models\n",
        "diabetes_model = RandomForestClassifier()\n",
        "heart_model = RandomForestClassifier()\n",
        "kidney_model = RandomForestClassifier()\n",
        "liver_model = RandomForestClassifier()"
      ]
    },
    {
      "cell_type": "code",
      "execution_count": 143,
      "metadata": {
        "colab": {
          "base_uri": "https://localhost:8080/",
          "height": 74
        },
        "id": "sx73CkevDDoz",
        "outputId": "3165e5ce-5349-490c-d0b5-332243ebb13d"
      },
      "outputs": [
        {
          "output_type": "execute_result",
          "data": {
            "text/plain": [
              "RandomForestClassifier()"
            ],
            "text/html": [
              "<style>#sk-container-id-1 {color: black;background-color: white;}#sk-container-id-1 pre{padding: 0;}#sk-container-id-1 div.sk-toggleable {background-color: white;}#sk-container-id-1 label.sk-toggleable__label {cursor: pointer;display: block;width: 100%;margin-bottom: 0;padding: 0.3em;box-sizing: border-box;text-align: center;}#sk-container-id-1 label.sk-toggleable__label-arrow:before {content: \"▸\";float: left;margin-right: 0.25em;color: #696969;}#sk-container-id-1 label.sk-toggleable__label-arrow:hover:before {color: black;}#sk-container-id-1 div.sk-estimator:hover label.sk-toggleable__label-arrow:before {color: black;}#sk-container-id-1 div.sk-toggleable__content {max-height: 0;max-width: 0;overflow: hidden;text-align: left;background-color: #f0f8ff;}#sk-container-id-1 div.sk-toggleable__content pre {margin: 0.2em;color: black;border-radius: 0.25em;background-color: #f0f8ff;}#sk-container-id-1 input.sk-toggleable__control:checked~div.sk-toggleable__content {max-height: 200px;max-width: 100%;overflow: auto;}#sk-container-id-1 input.sk-toggleable__control:checked~label.sk-toggleable__label-arrow:before {content: \"▾\";}#sk-container-id-1 div.sk-estimator input.sk-toggleable__control:checked~label.sk-toggleable__label {background-color: #d4ebff;}#sk-container-id-1 div.sk-label input.sk-toggleable__control:checked~label.sk-toggleable__label {background-color: #d4ebff;}#sk-container-id-1 input.sk-hidden--visually {border: 0;clip: rect(1px 1px 1px 1px);clip: rect(1px, 1px, 1px, 1px);height: 1px;margin: -1px;overflow: hidden;padding: 0;position: absolute;width: 1px;}#sk-container-id-1 div.sk-estimator {font-family: monospace;background-color: #f0f8ff;border: 1px dotted black;border-radius: 0.25em;box-sizing: border-box;margin-bottom: 0.5em;}#sk-container-id-1 div.sk-estimator:hover {background-color: #d4ebff;}#sk-container-id-1 div.sk-parallel-item::after {content: \"\";width: 100%;border-bottom: 1px solid gray;flex-grow: 1;}#sk-container-id-1 div.sk-label:hover label.sk-toggleable__label {background-color: #d4ebff;}#sk-container-id-1 div.sk-serial::before {content: \"\";position: absolute;border-left: 1px solid gray;box-sizing: border-box;top: 0;bottom: 0;left: 50%;z-index: 0;}#sk-container-id-1 div.sk-serial {display: flex;flex-direction: column;align-items: center;background-color: white;padding-right: 0.2em;padding-left: 0.2em;position: relative;}#sk-container-id-1 div.sk-item {position: relative;z-index: 1;}#sk-container-id-1 div.sk-parallel {display: flex;align-items: stretch;justify-content: center;background-color: white;position: relative;}#sk-container-id-1 div.sk-item::before, #sk-container-id-1 div.sk-parallel-item::before {content: \"\";position: absolute;border-left: 1px solid gray;box-sizing: border-box;top: 0;bottom: 0;left: 50%;z-index: -1;}#sk-container-id-1 div.sk-parallel-item {display: flex;flex-direction: column;z-index: 1;position: relative;background-color: white;}#sk-container-id-1 div.sk-parallel-item:first-child::after {align-self: flex-end;width: 50%;}#sk-container-id-1 div.sk-parallel-item:last-child::after {align-self: flex-start;width: 50%;}#sk-container-id-1 div.sk-parallel-item:only-child::after {width: 0;}#sk-container-id-1 div.sk-dashed-wrapped {border: 1px dashed gray;margin: 0 0.4em 0.5em 0.4em;box-sizing: border-box;padding-bottom: 0.4em;background-color: white;}#sk-container-id-1 div.sk-label label {font-family: monospace;font-weight: bold;display: inline-block;line-height: 1.2em;}#sk-container-id-1 div.sk-label-container {text-align: center;}#sk-container-id-1 div.sk-container {/* jupyter's `normalize.less` sets `[hidden] { display: none; }` but bootstrap.min.css set `[hidden] { display: none !important; }` so we also need the `!important` here to be able to override the default hidden behavior on the sphinx rendered scikit-learn.org. See: https://github.com/scikit-learn/scikit-learn/issues/21755 */display: inline-block !important;position: relative;}#sk-container-id-1 div.sk-text-repr-fallback {display: none;}</style><div id=\"sk-container-id-1\" class=\"sk-top-container\"><div class=\"sk-text-repr-fallback\"><pre>RandomForestClassifier()</pre><b>In a Jupyter environment, please rerun this cell to show the HTML representation or trust the notebook. <br />On GitHub, the HTML representation is unable to render, please try loading this page with nbviewer.org.</b></div><div class=\"sk-container\" hidden><div class=\"sk-item\"><div class=\"sk-estimator sk-toggleable\"><input class=\"sk-toggleable__control sk-hidden--visually\" id=\"sk-estimator-id-1\" type=\"checkbox\" checked><label for=\"sk-estimator-id-1\" class=\"sk-toggleable__label sk-toggleable__label-arrow\">RandomForestClassifier</label><div class=\"sk-toggleable__content\"><pre>RandomForestClassifier()</pre></div></div></div></div></div>"
            ]
          },
          "metadata": {},
          "execution_count": 143
        }
      ],
      "source": [
        "# Train the individual models\n",
        "diabetes_model.fit(X_diabetes, y_diabetes)\n",
        "heart_model.fit(X_heart, y_heart)\n",
        "kidney_model.fit(X_kidney, y_kidney)\n",
        "liver_model.fit(X_liver, y_liver)"
      ]
    },
    {
      "cell_type": "code",
      "execution_count": 144,
      "metadata": {
        "id": "liAh7F2IETmr"
      },
      "outputs": [],
      "source": [
        "# Create the ensemble model\n",
        "ensemble_model = VotingClassifier(estimators=[('diabetes', diabetes_model), ('heart', heart_model), ('kidney', kidney_model), ('liver', liver_model)], voting='hard')"
      ]
    },
    {
      "cell_type": "code",
      "execution_count": 145,
      "metadata": {
        "colab": {
          "base_uri": "https://localhost:8080/",
          "height": 109
        },
        "id": "BqnT8UOdE9Ar",
        "outputId": "aa99eddb-c371-4c16-b4c7-b6f53ac12284"
      },
      "outputs": [
        {
          "output_type": "execute_result",
          "data": {
            "text/plain": [
              "VotingClassifier(estimators=[('diabetes', RandomForestClassifier()),\n",
              "                             ('heart', RandomForestClassifier()),\n",
              "                             ('kidney', RandomForestClassifier()),\n",
              "                             ('liver', RandomForestClassifier())])"
            ],
            "text/html": [
              "<style>#sk-container-id-2 {color: black;background-color: white;}#sk-container-id-2 pre{padding: 0;}#sk-container-id-2 div.sk-toggleable {background-color: white;}#sk-container-id-2 label.sk-toggleable__label {cursor: pointer;display: block;width: 100%;margin-bottom: 0;padding: 0.3em;box-sizing: border-box;text-align: center;}#sk-container-id-2 label.sk-toggleable__label-arrow:before {content: \"▸\";float: left;margin-right: 0.25em;color: #696969;}#sk-container-id-2 label.sk-toggleable__label-arrow:hover:before {color: black;}#sk-container-id-2 div.sk-estimator:hover label.sk-toggleable__label-arrow:before {color: black;}#sk-container-id-2 div.sk-toggleable__content {max-height: 0;max-width: 0;overflow: hidden;text-align: left;background-color: #f0f8ff;}#sk-container-id-2 div.sk-toggleable__content pre {margin: 0.2em;color: black;border-radius: 0.25em;background-color: #f0f8ff;}#sk-container-id-2 input.sk-toggleable__control:checked~div.sk-toggleable__content {max-height: 200px;max-width: 100%;overflow: auto;}#sk-container-id-2 input.sk-toggleable__control:checked~label.sk-toggleable__label-arrow:before {content: \"▾\";}#sk-container-id-2 div.sk-estimator input.sk-toggleable__control:checked~label.sk-toggleable__label {background-color: #d4ebff;}#sk-container-id-2 div.sk-label input.sk-toggleable__control:checked~label.sk-toggleable__label {background-color: #d4ebff;}#sk-container-id-2 input.sk-hidden--visually {border: 0;clip: rect(1px 1px 1px 1px);clip: rect(1px, 1px, 1px, 1px);height: 1px;margin: -1px;overflow: hidden;padding: 0;position: absolute;width: 1px;}#sk-container-id-2 div.sk-estimator {font-family: monospace;background-color: #f0f8ff;border: 1px dotted black;border-radius: 0.25em;box-sizing: border-box;margin-bottom: 0.5em;}#sk-container-id-2 div.sk-estimator:hover {background-color: #d4ebff;}#sk-container-id-2 div.sk-parallel-item::after {content: \"\";width: 100%;border-bottom: 1px solid gray;flex-grow: 1;}#sk-container-id-2 div.sk-label:hover label.sk-toggleable__label {background-color: #d4ebff;}#sk-container-id-2 div.sk-serial::before {content: \"\";position: absolute;border-left: 1px solid gray;box-sizing: border-box;top: 0;bottom: 0;left: 50%;z-index: 0;}#sk-container-id-2 div.sk-serial {display: flex;flex-direction: column;align-items: center;background-color: white;padding-right: 0.2em;padding-left: 0.2em;position: relative;}#sk-container-id-2 div.sk-item {position: relative;z-index: 1;}#sk-container-id-2 div.sk-parallel {display: flex;align-items: stretch;justify-content: center;background-color: white;position: relative;}#sk-container-id-2 div.sk-item::before, #sk-container-id-2 div.sk-parallel-item::before {content: \"\";position: absolute;border-left: 1px solid gray;box-sizing: border-box;top: 0;bottom: 0;left: 50%;z-index: -1;}#sk-container-id-2 div.sk-parallel-item {display: flex;flex-direction: column;z-index: 1;position: relative;background-color: white;}#sk-container-id-2 div.sk-parallel-item:first-child::after {align-self: flex-end;width: 50%;}#sk-container-id-2 div.sk-parallel-item:last-child::after {align-self: flex-start;width: 50%;}#sk-container-id-2 div.sk-parallel-item:only-child::after {width: 0;}#sk-container-id-2 div.sk-dashed-wrapped {border: 1px dashed gray;margin: 0 0.4em 0.5em 0.4em;box-sizing: border-box;padding-bottom: 0.4em;background-color: white;}#sk-container-id-2 div.sk-label label {font-family: monospace;font-weight: bold;display: inline-block;line-height: 1.2em;}#sk-container-id-2 div.sk-label-container {text-align: center;}#sk-container-id-2 div.sk-container {/* jupyter's `normalize.less` sets `[hidden] { display: none; }` but bootstrap.min.css set `[hidden] { display: none !important; }` so we also need the `!important` here to be able to override the default hidden behavior on the sphinx rendered scikit-learn.org. See: https://github.com/scikit-learn/scikit-learn/issues/21755 */display: inline-block !important;position: relative;}#sk-container-id-2 div.sk-text-repr-fallback {display: none;}</style><div id=\"sk-container-id-2\" class=\"sk-top-container\"><div class=\"sk-text-repr-fallback\"><pre>VotingClassifier(estimators=[(&#x27;diabetes&#x27;, RandomForestClassifier()),\n",
              "                             (&#x27;heart&#x27;, RandomForestClassifier()),\n",
              "                             (&#x27;kidney&#x27;, RandomForestClassifier()),\n",
              "                             (&#x27;liver&#x27;, RandomForestClassifier())])</pre><b>In a Jupyter environment, please rerun this cell to show the HTML representation or trust the notebook. <br />On GitHub, the HTML representation is unable to render, please try loading this page with nbviewer.org.</b></div><div class=\"sk-container\" hidden><div class=\"sk-item sk-dashed-wrapped\"><div class=\"sk-label-container\"><div class=\"sk-label sk-toggleable\"><input class=\"sk-toggleable__control sk-hidden--visually\" id=\"sk-estimator-id-2\" type=\"checkbox\" ><label for=\"sk-estimator-id-2\" class=\"sk-toggleable__label sk-toggleable__label-arrow\">VotingClassifier</label><div class=\"sk-toggleable__content\"><pre>VotingClassifier(estimators=[(&#x27;diabetes&#x27;, RandomForestClassifier()),\n",
              "                             (&#x27;heart&#x27;, RandomForestClassifier()),\n",
              "                             (&#x27;kidney&#x27;, RandomForestClassifier()),\n",
              "                             (&#x27;liver&#x27;, RandomForestClassifier())])</pre></div></div></div><div class=\"sk-parallel\"><div class=\"sk-parallel-item\"><div class=\"sk-item\"><div class=\"sk-label-container\"><div class=\"sk-label sk-toggleable\"><label>diabetes</label></div></div><div class=\"sk-serial\"><div class=\"sk-item\"><div class=\"sk-estimator sk-toggleable\"><input class=\"sk-toggleable__control sk-hidden--visually\" id=\"sk-estimator-id-3\" type=\"checkbox\" ><label for=\"sk-estimator-id-3\" class=\"sk-toggleable__label sk-toggleable__label-arrow\">RandomForestClassifier</label><div class=\"sk-toggleable__content\"><pre>RandomForestClassifier()</pre></div></div></div></div></div></div><div class=\"sk-parallel-item\"><div class=\"sk-item\"><div class=\"sk-label-container\"><div class=\"sk-label sk-toggleable\"><label>heart</label></div></div><div class=\"sk-serial\"><div class=\"sk-item\"><div class=\"sk-estimator sk-toggleable\"><input class=\"sk-toggleable__control sk-hidden--visually\" id=\"sk-estimator-id-4\" type=\"checkbox\" ><label for=\"sk-estimator-id-4\" class=\"sk-toggleable__label sk-toggleable__label-arrow\">RandomForestClassifier</label><div class=\"sk-toggleable__content\"><pre>RandomForestClassifier()</pre></div></div></div></div></div></div><div class=\"sk-parallel-item\"><div class=\"sk-item\"><div class=\"sk-label-container\"><div class=\"sk-label sk-toggleable\"><label>kidney</label></div></div><div class=\"sk-serial\"><div class=\"sk-item\"><div class=\"sk-estimator sk-toggleable\"><input class=\"sk-toggleable__control sk-hidden--visually\" id=\"sk-estimator-id-5\" type=\"checkbox\" ><label for=\"sk-estimator-id-5\" class=\"sk-toggleable__label sk-toggleable__label-arrow\">RandomForestClassifier</label><div class=\"sk-toggleable__content\"><pre>RandomForestClassifier()</pre></div></div></div></div></div></div><div class=\"sk-parallel-item\"><div class=\"sk-item\"><div class=\"sk-label-container\"><div class=\"sk-label sk-toggleable\"><label>liver</label></div></div><div class=\"sk-serial\"><div class=\"sk-item\"><div class=\"sk-estimator sk-toggleable\"><input class=\"sk-toggleable__control sk-hidden--visually\" id=\"sk-estimator-id-6\" type=\"checkbox\" ><label for=\"sk-estimator-id-6\" class=\"sk-toggleable__label sk-toggleable__label-arrow\">RandomForestClassifier</label><div class=\"sk-toggleable__content\"><pre>RandomForestClassifier()</pre></div></div></div></div></div></div></div></div></div></div>"
            ]
          },
          "metadata": {},
          "execution_count": 145
        }
      ],
      "source": [
        "# Train the ensemble model\n",
        "ensemble_model.fit(np.concatenate((X_diabetes, X_heart, X_kidney, X_liver), axis=0), np.concatenate((y_diabetes, y_heart, y_kidney, y_liver), axis=0))"
      ]
    },
    {
      "cell_type": "code",
      "execution_count": 146,
      "metadata": {
        "colab": {
          "base_uri": "https://localhost:8080/"
        },
        "id": "jT_8xDsQHMGK",
        "outputId": "ac07bfe9-b38f-46af-d687-8d2ae5696ffd"
      },
      "outputs": [
        {
          "output_type": "stream",
          "name": "stdout",
          "text": [
            "Accuracy: 0.9949194113524877\n"
          ]
        }
      ],
      "source": [
        "# Evaluate the ensemble model\n",
        "accuracy = accuracy_score(np.concatenate((y_test_diabetes, y_test_heart, y_test_kidney, y_test_liver), axis=0), ensemble_model.predict(np.concatenate((X_test_diabetes, X_test_heart, X_test_kidney, X_test_liver), axis=0)))\n",
        "print('Accuracy:', accuracy)"
      ]
    },
    {
      "cell_type": "code",
      "execution_count": 147,
      "metadata": {
        "id": "s7PHWGJ7NOSh"
      },
      "outputs": [],
      "source": [
        "import pickle\n",
        "\n",
        "# Save the trained ensemble model to a file\n",
        "with open('/content/ensemble_model.pkl', 'wb') as f:\n",
        "    pickle.dump(ensemble_model, f)\n"
      ]
    },
    {
      "cell_type": "code",
      "execution_count": 148,
      "metadata": {
        "id": "ah62tUgaN_NR"
      },
      "outputs": [],
      "source": [
        "# Load the saved model from file\n",
        "import pickle\n",
        "with open('ensemble_model.pkl', 'rb') as f:\n",
        "    loaded_model = pickle.load(f)"
      ]
    },
    {
      "cell_type": "code",
      "execution_count": 149,
      "metadata": {
        "colab": {
          "base_uri": "https://localhost:8080/"
        },
        "id": "sd_vVDHwkkyM",
        "outputId": "476197d2-8359-4d1a-ce8b-81f02e071f86"
      },
      "outputs": [
        {
          "output_type": "stream",
          "name": "stdout",
          "text": [
            "Predicted heart disease status: 0\n",
            "Predicted Diabetes disease status: 1\n",
            "Predicted Liver disease status: 1\n",
            "Predicted Kidney disease status: 0\n"
          ]
        }
      ],
      "source": [
        "def predict_disease(disease_type, **kwargs):\n",
        "    with open('ensemble_model.pkl', 'rb') as f:\n",
        "        ensemble_model = pickle.load(f)\n",
        "\n",
        "    if disease_type == 'heart':\n",
        "        features = np.array([[kwargs.get('age'), kwargs.get('sex'), kwargs.get('cp'), kwargs.get('thalach'),\n",
        "                              kwargs.get('exang'), kwargs.get('oldpeak'), kwargs.get('ca'), kwargs.get('thal')]])\n",
        "    elif disease_type == 'diabetes':\n",
        "        features = np.array([[kwargs.get('Pregnancies'), kwargs.get('Glucose'), kwargs.get('Insulin'), kwargs.get('BMI'),\n",
        "                              kwargs.get('Age'), kwargs.get('NewInsulinScore_Normal'), kwargs.get('NewGlucose_Normal'),\n",
        "                              kwargs.get('NewGlucose_Secret')]])\n",
        "    elif disease_type == 'liver':\n",
        "        features = np.array([[kwargs.get('Age'), kwargs.get('Gender'), kwargs.get('Total_Bilirubin'),\n",
        "                              kwargs.get('Direct_Bilirubin'), kwargs.get('Alkaline_Phosphotase'),\n",
        "                              kwargs.get('Alamine_Aminotransferase'), kwargs.get('Aspartate_Aminotransferase'),\n",
        "                              kwargs.get('Albumin_and_Globulin_Ratio')]])\n",
        "    elif disease_type == 'kidney':\n",
        "        features = np.array([[kwargs.get('age'), kwargs.get('specific_gravity'), kwargs.get('albumin'),\n",
        "                              kwargs.get('haemoglobin'), kwargs.get('packed_cell_volume'),\n",
        "                              kwargs.get('hypertension'), kwargs.get('diabetes_mellitus'),\n",
        "                              kwargs.get('coronary_artery_disease')]])\n",
        "    else:\n",
        "        return \"Invalid disease type\"\n",
        "\n",
        "    prediction = ensemble_model.predict(features)\n",
        "    return prediction[0]\n",
        "\n",
        "# Call the function to predict heart disease\n",
        "prediction = predict_disease(disease_type='heart', age=63, sex=1, cp=3, thalach=5.01, exang=0, oldpeak=2.3, ca=0, thal=1)\n",
        "print(\"Predicted heart disease status:\", prediction)\n",
        "\n",
        "# Call the function to predict diabetes\n",
        "prediction = predict_disease(disease_type='diabetes', Pregnancies=6, Glucose=148, Insulin=169, BMI=33.6, Age=50,\n",
        "                             NewInsulinScore_Normal=0, NewGlucose_Normal=0, NewGlucose_Secret=1)\n",
        "print(\"Predicted Diabetes disease status:\", prediction)\n",
        "\n",
        "# Call the function to predict liver disease\n",
        "prediction = predict_disease(disease_type='liver', Age=65, Gender=1, Total_Bilirubin=0.7, Direct_Bilirubin=0.1,\n",
        "                             Alkaline_Phosphotase=187, Alamine_Aminotransferase=16, Aspartate_Aminotransferase=18,\n",
        "                             Albumin_and_Globulin_Ratio=0.90)\n",
        "print(\"Predicted Liver disease status:\", prediction)\n",
        "\n",
        "# Call the function to predict kidney disease\n",
        "prediction = predict_disease(disease_type='kidney', age=52, specific_gravity=1.025, albumin=0.0, haemoglobin=15,\n",
        "                             packed_cell_volume=52, hypertension=0, diabetes_mellitus=0, coronary_artery_disease=0)\n",
        "print(\"Predicted Kidney disease status:\", prediction)\n"
      ]
    }
  ],
  "metadata": {
    "colab": {
      "provenance": []
    },
    "kernelspec": {
      "display_name": "Python 3 (ipykernel)",
      "language": "python",
      "name": "python3"
    },
    "language_info": {
      "codemirror_mode": {
        "name": "ipython",
        "version": 3
      },
      "file_extension": ".py",
      "mimetype": "text/x-python",
      "name": "python",
      "nbconvert_exporter": "python",
      "pygments_lexer": "ipython3",
      "version": "3.10.12"
    }
  },
  "nbformat": 4,
  "nbformat_minor": 0
}