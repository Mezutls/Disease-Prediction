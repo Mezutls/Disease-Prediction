{
  "cells": [
    {
      "cell_type": "code",
      "source": [
        "from google.colab import drive\n",
        "drive.mount('/content/drive')"
      ],
      "metadata": {
        "colab": {
          "base_uri": "https://localhost:8080/"
        },
        "id": "WrLnrUw2qCS9",
        "outputId": "67c92260-cfa7-49f3-8cf6-953513ee5ded"
      },
      "execution_count": 2,
      "outputs": [
        {
          "output_type": "stream",
          "name": "stdout",
          "text": [
            "Mounted at /content/drive\n"
          ]
        }
      ]
    },
    {
      "cell_type": "code",
      "execution_count": 236,
      "metadata": {
        "id": "bAGL4_xNy0uE"
      },
      "outputs": [],
      "source": [
        "# Importing the packages\n",
        "import numpy as np\n",
        "import pandas as pd\n",
        "#import statsmodels.api as sm\n",
        "import seaborn as sns\n",
        "import matplotlib.pyplot as plt\n",
        "from sklearn.preprocessing import scale, StandardScaler\n",
        "from sklearn.model_selection import train_test_split\n",
        "from sklearn.ensemble import RandomForestClassifier\n",
        "from sklearn.metrics import accuracy_score, f1_score, precision_score, recall_score, confusion_matrix\n",
        "#from sklearn.model_selection import KFold\n",
        "from sklearn.ensemble import VotingClassifier\n",
        "import warnings\n",
        "warnings.simplefilter(action = \"ignore\")\n",
        "sns.set()\n",
        "plt.style.use('ggplot')\n",
        "%matplotlib inline"
      ]
    },
    {
      "cell_type": "code",
      "execution_count": 237,
      "metadata": {
        "id": "nrw49fFVzCnQ"
      },
      "outputs": [],
      "source": [
        "df_d=pd.read_csv('/content/drive/MyDrive/Disease Prediction 2/Cleaned Datasets/diabetescleaned.csv')\n",
        "df_h=pd.read_csv('/content/drive/MyDrive/Disease Prediction 2/Cleaned Datasets/heartcleaned.csv')\n",
        "df_k=pd.read_csv('/content/drive/MyDrive/Disease Prediction 2/Cleaned Datasets/kidneycleaned.csv')\n",
        "df_l=pd.read_csv('/content/drive/MyDrive/Disease Prediction 2/Cleaned Datasets/livercleaned.csv')"
      ]
    },
    {
      "cell_type": "code",
      "source": [
        "import pandas as pd\n",
        "\n",
        "def drop_weak_correlations_with_target(data, target_column, threshold):\n",
        "    \"\"\"Drops features with correlations below `threshold` (absolute value) with respect to the target column.  Assumes target is the last column .\n",
        "    Args:\n",
        "        data: A pandas DataFrame.\n",
        "        target_column: The name of the classification target feature.\n",
        "        threshold: The correlation coefficient threshold.\n",
        "\n",
        "    Returns:\n",
        "        A new DataFrame with weakly correlated features removed.\n",
        "    \"\"\"\n",
        "    correlations = data.corr()[target_column].abs()[:-1]  # Exclude the target itself\n",
        "    weak_features = correlations[correlations < threshold].index\n",
        "    return data.drop(weak_features, axis=1)\n",
        "\n",
        "def get_feature_count(data, target_column, threshold):\n",
        "    new_data = drop_weak_correlations_with_target(data.copy(), target_column, threshold)\n",
        "    return len(new_data.columns) - 1  # Subtract 1 for the target column\n",
        "\n",
        "def find_threshold(datasets, target_column, desired_feature_count):\n",
        "    threshold = 0.0\n",
        "    increment = 0.1\n",
        "\n",
        "    while True:\n",
        "        feature_counts = [get_feature_count(data, target_column, threshold) for data in datasets]\n",
        "        min_features = min(feature_counts)\n",
        "        max_features = max(feature_counts)\n",
        "\n",
        "        if min_features == max_features == desired_feature_count:\n",
        "            return threshold\n",
        "\n",
        "        if max_features > desired_feature_count:\n",
        "            threshold += increment\n",
        "        else:\n",
        "            threshold -= increment\n",
        "            increment /= 2\n",
        "\n",
        "\n"
      ],
      "metadata": {
        "id": "LZtKTsxg-5_b"
      },
      "execution_count": 238,
      "outputs": []
    },
    {
      "cell_type": "code",
      "source": [
        "# ... (Load your datasets df_d, df_h, df_k, and df_l)\n",
        "datasets=[df_k]\n",
        "target_column = \"class\"  # Example; adjust accordingly\n",
        "desired_feature_count = 8\n",
        "\n",
        "final_threshold = find_threshold(datasets.copy(), target_column, desired_feature_count)\n",
        "print(\"Final Threshold:\", final_threshold)"
      ],
      "metadata": {
        "colab": {
          "base_uri": "https://localhost:8080/"
        },
        "id": "7ZBFNWZm-5yI",
        "outputId": "e61921a1-edba-4bad-8fc0-27a4884e056b"
      },
      "execution_count": 239,
      "outputs": [
        {
          "output_type": "stream",
          "name": "stdout",
          "text": [
            "Final Threshold: 0.39375000000000004\n"
          ]
        }
      ]
    },
    {
      "cell_type": "code",
      "source": [
        "# Your dataset and target column (assuming 'Outcome' is the correct target for the kidney disease dataset)\n",
        "data = df_k.copy()  # Make a copy to avoid modifying your original dataset\n",
        "target_column = \"class\"\n",
        "\n",
        "# The threshold determined using the iterative process\n",
        "final_threshold = 0.39375000000000004\n",
        "\n",
        "# Calling the function to drop weakly correlated features\n",
        "new_data_k = drop_weak_correlations_with_target(data, target_column, final_threshold)\n",
        "\n",
        "print(new_data_k.head())  # Display the first few rows of the modified dataset"
      ],
      "metadata": {
        "colab": {
          "base_uri": "https://localhost:8080/"
        },
        "id": "Gp4Xz1NtBFyk",
        "outputId": "975e5c6f-4954-4ac7-9af7-0d88a844e141"
      },
      "execution_count": 240,
      "outputs": [
        {
          "output_type": "stream",
          "name": "stdout",
          "text": [
            "   specific_gravity  albumin  pus_cell  haemoglobin  packed_cell_volume  \\\n",
            "0             1.020      1.0         1         15.4                44.0   \n",
            "1             1.020      4.0         1         11.3                38.0   \n",
            "2             1.010      2.0         1          9.6                31.0   \n",
            "3             1.005      4.0         0         11.2                32.0   \n",
            "4             1.010      2.0         1         11.6                35.0   \n",
            "\n",
            "   red_blood_cell_count  hypertension  diabetes_mellitus  class  \n",
            "0                   5.2             1                  1      0  \n",
            "1                   2.1             0                  0      0  \n",
            "2                   5.7             0                  1      0  \n",
            "3                   3.9             1                  0      0  \n",
            "4                   4.6             0                  0      0  \n"
          ]
        }
      ]
    },
    {
      "cell_type": "code",
      "source": [
        "# ... (Load your datasets df_d, df_h, df_k, and df_l)\n",
        "datasets=[df_h]\n",
        "target_column = \"target\"  # Example; adjust accordingly\n",
        "desired_feature_count = 8\n",
        "\n",
        "final_threshold = find_threshold(datasets.copy(), target_column, desired_feature_count)\n",
        "print(\"Final Threshold:\", final_threshold)"
      ],
      "metadata": {
        "colab": {
          "base_uri": "https://localhost:8080/"
        },
        "id": "DUuE6DMcBZiY",
        "outputId": "19b673f7-186c-4935-f600-e30983e9f28a"
      },
      "execution_count": 241,
      "outputs": [
        {
          "output_type": "stream",
          "name": "stdout",
          "text": [
            "Final Threshold: 0.25000000000000006\n"
          ]
        }
      ]
    },
    {
      "cell_type": "code",
      "source": [
        "# Your dataset and target column (assuming 'Outcome' is the correct target for the kidney disease dataset)\n",
        "data = df_h.copy()  # Make a copy to avoid modifying your original dataset\n",
        "target_column = \"target\"\n",
        "\n",
        "# The threshold determined using the iterative process\n",
        "final_threshold = 0.25000000000000006\n",
        "\n",
        "# Calling the function to drop weakly correlated features\n",
        "new_data_h = drop_weak_correlations_with_target(data, target_column, final_threshold)\n",
        "\n",
        "print(new_data_h.head())  # Display the first few rows of the modified dataset"
      ],
      "metadata": {
        "colab": {
          "base_uri": "https://localhost:8080/"
        },
        "id": "m58A89mWBt9L",
        "outputId": "ac51ed8e-a4cc-4fa3-f2ae-5a6cffb896f1"
      },
      "execution_count": 242,
      "outputs": [
        {
          "output_type": "stream",
          "name": "stdout",
          "text": [
            "   sex  cp   thalach  exang  oldpeak  slope  ca  thal  target\n",
            "0    1   3  5.010635      0      2.3      0   0     1       1\n",
            "1    1   2  5.231109      0      3.5      0   0     2       1\n",
            "2    0   1  5.147494      0      1.4      2   0     2       1\n",
            "3    1   1  5.181784      0      0.8      2   0     2       1\n",
            "4    0   0  5.093750      1      0.6      2   0     2       1\n"
          ]
        }
      ]
    },
    {
      "cell_type": "code",
      "source": [
        "# ... (Load your datasets df_d, df_h, df_k, and df_l)\n",
        "datasets=[df_d]\n",
        "target_column = \"Outcome\"  # Example; adjust accordingly\n",
        "desired_feature_count = 8\n",
        "\n",
        "final_threshold = find_threshold(datasets.copy(), target_column, desired_feature_count)\n",
        "print(\"Final Threshold:\", final_threshold)"
      ],
      "metadata": {
        "colab": {
          "base_uri": "https://localhost:8080/"
        },
        "id": "5GsAzECs9leF",
        "outputId": "28e87a7c-a3b2-4de9-9309-70f51d5c92c2"
      },
      "execution_count": 243,
      "outputs": [
        {
          "output_type": "stream",
          "name": "stdout",
          "text": [
            "Final Threshold: 0.23750000000000007\n"
          ]
        }
      ]
    },
    {
      "cell_type": "code",
      "source": [
        "# Your dataset and target column (assuming 'Outcome' is the correct target for the kidney disease dataset)\n",
        "data = df_d.copy()  # Make a copy to avoid modifying your original dataset\n",
        "target_column = \"Outcome\"\n",
        "\n",
        "# The threshold determined using the iterative process\n",
        "final_threshold = 0.23750000000000007\n",
        "\n",
        "# Calling the function to drop weakly correlated features\n",
        "new_data_d = drop_weak_correlations_with_target(data, target_column, final_threshold)\n",
        "\n",
        "print(new_data_d.head())  # Display the first few rows of the modified dataset"
      ],
      "metadata": {
        "colab": {
          "base_uri": "https://localhost:8080/"
        },
        "id": "yXNahxav9lU9",
        "outputId": "02b12a99-9158-47b5-e0be-f59ac5314394"
      },
      "execution_count": 244,
      "outputs": [
        {
          "output_type": "stream",
          "name": "stdout",
          "text": [
            "   Glucose  SkinThickness  Insulin   BMI  Age  Outcome  \\\n",
            "0    148.0           35.0    169.5  33.6   50        1   \n",
            "1     85.0           29.0    102.5  26.6   31        0   \n",
            "2    183.0           32.0    169.5  23.3   32        1   \n",
            "3     89.0           23.0     94.0  28.1   21        0   \n",
            "4    137.0           35.0    168.0  43.1   33        1   \n",
            "\n",
            "   NewInsulinScore_Normal  NewGlucose_Normal  NewGlucose_Secret  \n",
            "0                       0                  0                  1  \n",
            "1                       1                  1                  0  \n",
            "2                       0                  0                  1  \n",
            "3                       1                  1                  0  \n",
            "4                       0                  0                  1  \n"
          ]
        }
      ]
    },
    {
      "cell_type": "code",
      "source": [
        "# ... (Load your datasets df_d, df_h, df_k, and df_l)\n",
        "datasets=[df_l]\n",
        "target_column = \"Result\"  # Example; adjust accordingly\n",
        "desired_feature_count = 8\n",
        "\n",
        "final_threshold = find_threshold(datasets.copy(), target_column, desired_feature_count)\n",
        "print(\"Final Threshold:\", final_threshold)"
      ],
      "metadata": {
        "colab": {
          "base_uri": "https://localhost:8080/"
        },
        "id": "WK0xvFhd9lLU",
        "outputId": "86991cfa-6abd-4a90-ef40-22706baf59dc"
      },
      "execution_count": 245,
      "outputs": [
        {
          "output_type": "stream",
          "name": "stdout",
          "text": [
            "Final Threshold: 0.1\n"
          ]
        }
      ]
    },
    {
      "cell_type": "code",
      "source": [
        "# Your dataset and target column (assuming 'Outcome' is the correct target for the kidney disease dataset)\n",
        "data = df_l.copy()  # Make a copy to avoid modifying your original dataset\n",
        "target_column = \"Result\"\n",
        "\n",
        "# The threshold determined using the iterative process\n",
        "final_threshold = 0.1\n",
        "\n",
        "# Calling the function to drop weakly correlated features\n",
        "new_data_l = drop_weak_correlations_with_target(data, target_column, final_threshold)\n",
        "\n",
        "print(new_data_l.head())  # Display the first few rows of the modified dataset"
      ],
      "metadata": {
        "colab": {
          "base_uri": "https://localhost:8080/"
        },
        "id": "p4vL05g-9lCu",
        "outputId": "67450d0b-7970-4ecc-873e-fcf26b596e35"
      },
      "execution_count": 246,
      "outputs": [
        {
          "output_type": "stream",
          "name": "stdout",
          "text": [
            "   Gender  Total Bilirubin  Direct Bilirubin  Alkaline_Phosphotase  \\\n",
            "0  Female              0.7               0.1                 187.0   \n",
            "1    Male             10.9               5.5                 699.0   \n",
            "2    Male              7.3               4.1                 490.0   \n",
            "3    Male              1.0               0.4                 182.0   \n",
            "4    Male              3.9               2.0                 195.0   \n",
            "\n",
            "   Alamine_Aminotransferase  Aspartate_Aminotransferase  Albumin  \\\n",
            "0                      16.0                        18.0      3.3   \n",
            "1                      64.0                       100.0      3.2   \n",
            "2                      60.0                        68.0      3.3   \n",
            "3                      14.0                        20.0      3.4   \n",
            "4                      27.0                        59.0      2.4   \n",
            "\n",
            "   Albumin_and_Globulin Ratio  Result  \n",
            "0                        0.90       1  \n",
            "1                        0.74       1  \n",
            "2                        0.89       1  \n",
            "3                        1.00       1  \n",
            "4                        0.40       1  \n"
          ]
        }
      ]
    },
    {
      "cell_type": "code",
      "execution_count": 247,
      "metadata": {
        "id": "vFoMAys9EEpD"
      },
      "outputs": [],
      "source": [
        "## if score==negative, mark 0 ;else 1\n",
        "def partition(x):\n",
        "    if x =='Male':\n",
        "        return 0\n",
        "    return 1\n",
        "\n",
        "new_data_l['Gender'] = new_data_l['Gender'].map(partition)"
      ]
    },
    {
      "cell_type": "code",
      "source": [
        "# More efficient target conversion\n",
        "def convert_targets(labels):\n",
        "    return [0 if label == 1 else 1 for label in labels]\n"
      ],
      "metadata": {
        "id": "wBiPDdi6OSrK"
      },
      "execution_count": 248,
      "outputs": []
    },
    {
      "cell_type": "code",
      "source": [
        "def fix_liver_labels(df):\n",
        "    if df['Result'].dtype == 'object':\n",
        "        df['Result'] = df['Result'].astype(int)\n",
        "\n",
        "    # Mapping 1 to 0 and 2 to 1\n",
        "    df.loc[df['Result'] == 1, 'Result'] = 0\n",
        "    df.loc[df['Result'] == 2, 'Result'] = 1\n",
        "\n",
        "    return df\n"
      ],
      "metadata": {
        "id": "htQWNklYNC19"
      },
      "execution_count": 249,
      "outputs": []
    },
    {
      "cell_type": "code",
      "source": [
        "new_data_l = fix_liver_labels(new_data_l.copy())"
      ],
      "metadata": {
        "id": "H-su-CaGOmrg"
      },
      "execution_count": 250,
      "outputs": []
    },
    {
      "cell_type": "code",
      "execution_count": 251,
      "metadata": {
        "id": "K4pY7U-W2WrK"
      },
      "outputs": [],
      "source": [
        "# Split the data into training and testing sets\n",
        "X_diabetes, X_test_diabetes, y_diabetes, y_test_diabetes = train_test_split(new_data_d.drop('Outcome', axis=1), new_data_d['Outcome'], test_size=0.3, random_state=42)\n",
        "X_heart, X_test_heart, y_heart, y_test_heart = train_test_split(new_data_h.drop('target', axis=1), new_data_h['target'], test_size=0.3, random_state=42)\n",
        "X_kidney, X_test_kidney, y_kidney, y_test_kidney = train_test_split(new_data_k.drop('class', axis=1), new_data_k['class'], test_size=0.3, random_state=42)\n",
        "X_liver, X_test_liver, y_liver, y_test_liver = train_test_split(new_data_l.drop('Result', axis=1), new_data_l['Result'], test_size=0.2, random_state=42)"
      ]
    },
    {
      "cell_type": "code",
      "execution_count": 252,
      "metadata": {
        "id": "H58z-Dc4C-38"
      },
      "outputs": [],
      "source": [
        "# Create the individual models\n",
        "diabetes_model = RandomForestClassifier()\n",
        "heart_model = RandomForestClassifier()\n",
        "kidney_model = RandomForestClassifier()\n",
        "liver_model = RandomForestClassifier()"
      ]
    },
    {
      "cell_type": "code",
      "execution_count": 253,
      "metadata": {
        "colab": {
          "base_uri": "https://localhost:8080/",
          "height": 74
        },
        "id": "sx73CkevDDoz",
        "outputId": "0edbda94-11ff-4407-da87-6170a1a84e0e"
      },
      "outputs": [
        {
          "output_type": "execute_result",
          "data": {
            "text/plain": [
              "RandomForestClassifier()"
            ],
            "text/html": [
              "<style>#sk-container-id-5 {color: black;background-color: white;}#sk-container-id-5 pre{padding: 0;}#sk-container-id-5 div.sk-toggleable {background-color: white;}#sk-container-id-5 label.sk-toggleable__label {cursor: pointer;display: block;width: 100%;margin-bottom: 0;padding: 0.3em;box-sizing: border-box;text-align: center;}#sk-container-id-5 label.sk-toggleable__label-arrow:before {content: \"▸\";float: left;margin-right: 0.25em;color: #696969;}#sk-container-id-5 label.sk-toggleable__label-arrow:hover:before {color: black;}#sk-container-id-5 div.sk-estimator:hover label.sk-toggleable__label-arrow:before {color: black;}#sk-container-id-5 div.sk-toggleable__content {max-height: 0;max-width: 0;overflow: hidden;text-align: left;background-color: #f0f8ff;}#sk-container-id-5 div.sk-toggleable__content pre {margin: 0.2em;color: black;border-radius: 0.25em;background-color: #f0f8ff;}#sk-container-id-5 input.sk-toggleable__control:checked~div.sk-toggleable__content {max-height: 200px;max-width: 100%;overflow: auto;}#sk-container-id-5 input.sk-toggleable__control:checked~label.sk-toggleable__label-arrow:before {content: \"▾\";}#sk-container-id-5 div.sk-estimator input.sk-toggleable__control:checked~label.sk-toggleable__label {background-color: #d4ebff;}#sk-container-id-5 div.sk-label input.sk-toggleable__control:checked~label.sk-toggleable__label {background-color: #d4ebff;}#sk-container-id-5 input.sk-hidden--visually {border: 0;clip: rect(1px 1px 1px 1px);clip: rect(1px, 1px, 1px, 1px);height: 1px;margin: -1px;overflow: hidden;padding: 0;position: absolute;width: 1px;}#sk-container-id-5 div.sk-estimator {font-family: monospace;background-color: #f0f8ff;border: 1px dotted black;border-radius: 0.25em;box-sizing: border-box;margin-bottom: 0.5em;}#sk-container-id-5 div.sk-estimator:hover {background-color: #d4ebff;}#sk-container-id-5 div.sk-parallel-item::after {content: \"\";width: 100%;border-bottom: 1px solid gray;flex-grow: 1;}#sk-container-id-5 div.sk-label:hover label.sk-toggleable__label {background-color: #d4ebff;}#sk-container-id-5 div.sk-serial::before {content: \"\";position: absolute;border-left: 1px solid gray;box-sizing: border-box;top: 0;bottom: 0;left: 50%;z-index: 0;}#sk-container-id-5 div.sk-serial {display: flex;flex-direction: column;align-items: center;background-color: white;padding-right: 0.2em;padding-left: 0.2em;position: relative;}#sk-container-id-5 div.sk-item {position: relative;z-index: 1;}#sk-container-id-5 div.sk-parallel {display: flex;align-items: stretch;justify-content: center;background-color: white;position: relative;}#sk-container-id-5 div.sk-item::before, #sk-container-id-5 div.sk-parallel-item::before {content: \"\";position: absolute;border-left: 1px solid gray;box-sizing: border-box;top: 0;bottom: 0;left: 50%;z-index: -1;}#sk-container-id-5 div.sk-parallel-item {display: flex;flex-direction: column;z-index: 1;position: relative;background-color: white;}#sk-container-id-5 div.sk-parallel-item:first-child::after {align-self: flex-end;width: 50%;}#sk-container-id-5 div.sk-parallel-item:last-child::after {align-self: flex-start;width: 50%;}#sk-container-id-5 div.sk-parallel-item:only-child::after {width: 0;}#sk-container-id-5 div.sk-dashed-wrapped {border: 1px dashed gray;margin: 0 0.4em 0.5em 0.4em;box-sizing: border-box;padding-bottom: 0.4em;background-color: white;}#sk-container-id-5 div.sk-label label {font-family: monospace;font-weight: bold;display: inline-block;line-height: 1.2em;}#sk-container-id-5 div.sk-label-container {text-align: center;}#sk-container-id-5 div.sk-container {/* jupyter's `normalize.less` sets `[hidden] { display: none; }` but bootstrap.min.css set `[hidden] { display: none !important; }` so we also need the `!important` here to be able to override the default hidden behavior on the sphinx rendered scikit-learn.org. See: https://github.com/scikit-learn/scikit-learn/issues/21755 */display: inline-block !important;position: relative;}#sk-container-id-5 div.sk-text-repr-fallback {display: none;}</style><div id=\"sk-container-id-5\" class=\"sk-top-container\"><div class=\"sk-text-repr-fallback\"><pre>RandomForestClassifier()</pre><b>In a Jupyter environment, please rerun this cell to show the HTML representation or trust the notebook. <br />On GitHub, the HTML representation is unable to render, please try loading this page with nbviewer.org.</b></div><div class=\"sk-container\" hidden><div class=\"sk-item\"><div class=\"sk-estimator sk-toggleable\"><input class=\"sk-toggleable__control sk-hidden--visually\" id=\"sk-estimator-id-13\" type=\"checkbox\" checked><label for=\"sk-estimator-id-13\" class=\"sk-toggleable__label sk-toggleable__label-arrow\">RandomForestClassifier</label><div class=\"sk-toggleable__content\"><pre>RandomForestClassifier()</pre></div></div></div></div></div>"
            ]
          },
          "metadata": {},
          "execution_count": 253
        }
      ],
      "source": [
        "# Train the individual models\n",
        "diabetes_model.fit(X_diabetes, y_diabetes)\n",
        "heart_model.fit(X_heart, y_heart)\n",
        "kidney_model.fit(X_kidney, y_kidney)\n",
        "liver_model.fit(X_liver, y_liver)"
      ]
    },
    {
      "cell_type": "code",
      "execution_count": 254,
      "metadata": {
        "id": "liAh7F2IETmr"
      },
      "outputs": [],
      "source": [
        "# Create the ensemble model\n",
        "ensemble_model = VotingClassifier(estimators=[('diabetes', diabetes_model), ('heart', heart_model), ('kidney', kidney_model), ('liver', liver_model)], voting='hard')"
      ]
    },
    {
      "cell_type": "code",
      "execution_count": 255,
      "metadata": {
        "colab": {
          "base_uri": "https://localhost:8080/",
          "height": 109
        },
        "id": "BqnT8UOdE9Ar",
        "outputId": "f2fbcc37-c8bd-4a6c-94cf-6012080a21c2"
      },
      "outputs": [
        {
          "output_type": "execute_result",
          "data": {
            "text/plain": [
              "VotingClassifier(estimators=[('diabetes', RandomForestClassifier()),\n",
              "                             ('heart', RandomForestClassifier()),\n",
              "                             ('kidney', RandomForestClassifier()),\n",
              "                             ('liver', RandomForestClassifier())])"
            ],
            "text/html": [
              "<style>#sk-container-id-6 {color: black;background-color: white;}#sk-container-id-6 pre{padding: 0;}#sk-container-id-6 div.sk-toggleable {background-color: white;}#sk-container-id-6 label.sk-toggleable__label {cursor: pointer;display: block;width: 100%;margin-bottom: 0;padding: 0.3em;box-sizing: border-box;text-align: center;}#sk-container-id-6 label.sk-toggleable__label-arrow:before {content: \"▸\";float: left;margin-right: 0.25em;color: #696969;}#sk-container-id-6 label.sk-toggleable__label-arrow:hover:before {color: black;}#sk-container-id-6 div.sk-estimator:hover label.sk-toggleable__label-arrow:before {color: black;}#sk-container-id-6 div.sk-toggleable__content {max-height: 0;max-width: 0;overflow: hidden;text-align: left;background-color: #f0f8ff;}#sk-container-id-6 div.sk-toggleable__content pre {margin: 0.2em;color: black;border-radius: 0.25em;background-color: #f0f8ff;}#sk-container-id-6 input.sk-toggleable__control:checked~div.sk-toggleable__content {max-height: 200px;max-width: 100%;overflow: auto;}#sk-container-id-6 input.sk-toggleable__control:checked~label.sk-toggleable__label-arrow:before {content: \"▾\";}#sk-container-id-6 div.sk-estimator input.sk-toggleable__control:checked~label.sk-toggleable__label {background-color: #d4ebff;}#sk-container-id-6 div.sk-label input.sk-toggleable__control:checked~label.sk-toggleable__label {background-color: #d4ebff;}#sk-container-id-6 input.sk-hidden--visually {border: 0;clip: rect(1px 1px 1px 1px);clip: rect(1px, 1px, 1px, 1px);height: 1px;margin: -1px;overflow: hidden;padding: 0;position: absolute;width: 1px;}#sk-container-id-6 div.sk-estimator {font-family: monospace;background-color: #f0f8ff;border: 1px dotted black;border-radius: 0.25em;box-sizing: border-box;margin-bottom: 0.5em;}#sk-container-id-6 div.sk-estimator:hover {background-color: #d4ebff;}#sk-container-id-6 div.sk-parallel-item::after {content: \"\";width: 100%;border-bottom: 1px solid gray;flex-grow: 1;}#sk-container-id-6 div.sk-label:hover label.sk-toggleable__label {background-color: #d4ebff;}#sk-container-id-6 div.sk-serial::before {content: \"\";position: absolute;border-left: 1px solid gray;box-sizing: border-box;top: 0;bottom: 0;left: 50%;z-index: 0;}#sk-container-id-6 div.sk-serial {display: flex;flex-direction: column;align-items: center;background-color: white;padding-right: 0.2em;padding-left: 0.2em;position: relative;}#sk-container-id-6 div.sk-item {position: relative;z-index: 1;}#sk-container-id-6 div.sk-parallel {display: flex;align-items: stretch;justify-content: center;background-color: white;position: relative;}#sk-container-id-6 div.sk-item::before, #sk-container-id-6 div.sk-parallel-item::before {content: \"\";position: absolute;border-left: 1px solid gray;box-sizing: border-box;top: 0;bottom: 0;left: 50%;z-index: -1;}#sk-container-id-6 div.sk-parallel-item {display: flex;flex-direction: column;z-index: 1;position: relative;background-color: white;}#sk-container-id-6 div.sk-parallel-item:first-child::after {align-self: flex-end;width: 50%;}#sk-container-id-6 div.sk-parallel-item:last-child::after {align-self: flex-start;width: 50%;}#sk-container-id-6 div.sk-parallel-item:only-child::after {width: 0;}#sk-container-id-6 div.sk-dashed-wrapped {border: 1px dashed gray;margin: 0 0.4em 0.5em 0.4em;box-sizing: border-box;padding-bottom: 0.4em;background-color: white;}#sk-container-id-6 div.sk-label label {font-family: monospace;font-weight: bold;display: inline-block;line-height: 1.2em;}#sk-container-id-6 div.sk-label-container {text-align: center;}#sk-container-id-6 div.sk-container {/* jupyter's `normalize.less` sets `[hidden] { display: none; }` but bootstrap.min.css set `[hidden] { display: none !important; }` so we also need the `!important` here to be able to override the default hidden behavior on the sphinx rendered scikit-learn.org. See: https://github.com/scikit-learn/scikit-learn/issues/21755 */display: inline-block !important;position: relative;}#sk-container-id-6 div.sk-text-repr-fallback {display: none;}</style><div id=\"sk-container-id-6\" class=\"sk-top-container\"><div class=\"sk-text-repr-fallback\"><pre>VotingClassifier(estimators=[(&#x27;diabetes&#x27;, RandomForestClassifier()),\n",
              "                             (&#x27;heart&#x27;, RandomForestClassifier()),\n",
              "                             (&#x27;kidney&#x27;, RandomForestClassifier()),\n",
              "                             (&#x27;liver&#x27;, RandomForestClassifier())])</pre><b>In a Jupyter environment, please rerun this cell to show the HTML representation or trust the notebook. <br />On GitHub, the HTML representation is unable to render, please try loading this page with nbviewer.org.</b></div><div class=\"sk-container\" hidden><div class=\"sk-item sk-dashed-wrapped\"><div class=\"sk-label-container\"><div class=\"sk-label sk-toggleable\"><input class=\"sk-toggleable__control sk-hidden--visually\" id=\"sk-estimator-id-14\" type=\"checkbox\" ><label for=\"sk-estimator-id-14\" class=\"sk-toggleable__label sk-toggleable__label-arrow\">VotingClassifier</label><div class=\"sk-toggleable__content\"><pre>VotingClassifier(estimators=[(&#x27;diabetes&#x27;, RandomForestClassifier()),\n",
              "                             (&#x27;heart&#x27;, RandomForestClassifier()),\n",
              "                             (&#x27;kidney&#x27;, RandomForestClassifier()),\n",
              "                             (&#x27;liver&#x27;, RandomForestClassifier())])</pre></div></div></div><div class=\"sk-parallel\"><div class=\"sk-parallel-item\"><div class=\"sk-item\"><div class=\"sk-label-container\"><div class=\"sk-label sk-toggleable\"><label>diabetes</label></div></div><div class=\"sk-serial\"><div class=\"sk-item\"><div class=\"sk-estimator sk-toggleable\"><input class=\"sk-toggleable__control sk-hidden--visually\" id=\"sk-estimator-id-15\" type=\"checkbox\" ><label for=\"sk-estimator-id-15\" class=\"sk-toggleable__label sk-toggleable__label-arrow\">RandomForestClassifier</label><div class=\"sk-toggleable__content\"><pre>RandomForestClassifier()</pre></div></div></div></div></div></div><div class=\"sk-parallel-item\"><div class=\"sk-item\"><div class=\"sk-label-container\"><div class=\"sk-label sk-toggleable\"><label>heart</label></div></div><div class=\"sk-serial\"><div class=\"sk-item\"><div class=\"sk-estimator sk-toggleable\"><input class=\"sk-toggleable__control sk-hidden--visually\" id=\"sk-estimator-id-16\" type=\"checkbox\" ><label for=\"sk-estimator-id-16\" class=\"sk-toggleable__label sk-toggleable__label-arrow\">RandomForestClassifier</label><div class=\"sk-toggleable__content\"><pre>RandomForestClassifier()</pre></div></div></div></div></div></div><div class=\"sk-parallel-item\"><div class=\"sk-item\"><div class=\"sk-label-container\"><div class=\"sk-label sk-toggleable\"><label>kidney</label></div></div><div class=\"sk-serial\"><div class=\"sk-item\"><div class=\"sk-estimator sk-toggleable\"><input class=\"sk-toggleable__control sk-hidden--visually\" id=\"sk-estimator-id-17\" type=\"checkbox\" ><label for=\"sk-estimator-id-17\" class=\"sk-toggleable__label sk-toggleable__label-arrow\">RandomForestClassifier</label><div class=\"sk-toggleable__content\"><pre>RandomForestClassifier()</pre></div></div></div></div></div></div><div class=\"sk-parallel-item\"><div class=\"sk-item\"><div class=\"sk-label-container\"><div class=\"sk-label sk-toggleable\"><label>liver</label></div></div><div class=\"sk-serial\"><div class=\"sk-item\"><div class=\"sk-estimator sk-toggleable\"><input class=\"sk-toggleable__control sk-hidden--visually\" id=\"sk-estimator-id-18\" type=\"checkbox\" ><label for=\"sk-estimator-id-18\" class=\"sk-toggleable__label sk-toggleable__label-arrow\">RandomForestClassifier</label><div class=\"sk-toggleable__content\"><pre>RandomForestClassifier()</pre></div></div></div></div></div></div></div></div></div></div>"
            ]
          },
          "metadata": {},
          "execution_count": 255
        }
      ],
      "source": [
        "# Train the ensemble model\n",
        "ensemble_model.fit(np.concatenate((X_diabetes, X_heart, X_kidney, X_liver), axis=0), np.concatenate((y_diabetes, y_heart, y_kidney, y_liver), axis=0))"
      ]
    },
    {
      "cell_type": "code",
      "source": [
        "# More efficient target conversion\n",
        "def convert_targets(labels):\n",
        "    return [0 if label == 1 else 1 for label in labels]\n"
      ],
      "metadata": {
        "id": "_-P3b9-hKD11"
      },
      "execution_count": 256,
      "outputs": []
    },
    {
      "cell_type": "code",
      "execution_count": 257,
      "metadata": {
        "colab": {
          "base_uri": "https://localhost:8080/"
        },
        "id": "jT_8xDsQHMGK",
        "outputId": "8ef6b82c-5964-4362-a493-8c703e6b723d"
      },
      "outputs": [
        {
          "output_type": "stream",
          "name": "stdout",
          "text": [
            "Accuracy: 0.9921421250427058\n"
          ]
        }
      ],
      "source": [
        "# Evaluate the ensemble model\n",
        "accuracy = accuracy_score(np.concatenate((y_test_diabetes, y_test_heart, y_test_kidney, y_test_liver), axis=0), ensemble_model.predict(np.concatenate((X_test_diabetes, X_test_heart, X_test_kidney, X_test_liver), axis=0)))\n",
        "print('Accuracy:', accuracy)"
      ]
    },
    {
      "cell_type": "code",
      "source": [
        "# Make predictions on the test sets (assumes you've split each dataset into X_test_* and y_test_*)\n",
        "y_pred_diabetes = diabetes_model.predict(X_test_diabetes)\n",
        "y_pred_heart = heart_model.predict(X_test_heart)\n",
        "y_pred_kidney = kidney_model.predict(X_test_kidney)\n",
        "y_pred_liver = liver_model.predict(X_test_liver)"
      ],
      "metadata": {
        "id": "pnRBRoerHp57"
      },
      "execution_count": 258,
      "outputs": []
    },
    {
      "cell_type": "code",
      "source": [
        "# Make predictions using the ensemble model:\n",
        "y_pred_ensemble = ensemble_model.predict(np.concatenate((X_test_diabetes, X_test_heart, X_test_kidney, X_test_liver), axis=0))"
      ],
      "metadata": {
        "id": "Y_hrdArQHrpj"
      },
      "execution_count": 259,
      "outputs": []
    },
    {
      "cell_type": "code",
      "source": [
        "def calculate_metrics(X_test, y_test, y_pred, disease_name):\n",
        "    \"\"\"Calculates metrics for a specific disease dataset.\"\"\"\n",
        "\n",
        "    accuracy = accuracy_score(y_test, y_pred)\n",
        "    f1 = f1_score(y_test, y_pred, average='macro')\n",
        "    precision = precision_score(y_test, y_pred, average='macro')\n",
        "    recall = recall_score(y_test, y_pred, average='macro')\n",
        "    cm = confusion_matrix(y_test, y_pred)\n",
        "\n",
        "    print(f\"\\nMetrics for {disease_name} dataset:\")\n",
        "    print(\"Accuracy:\", accuracy)\n",
        "    print(\"F1-Score:\", f1)\n",
        "    print(\"Precision:\", precision)\n",
        "    print(\"Recall:\", recall)\n",
        "    print(\"Confusion Matrix:\\n\", cm)\n",
        "\n",
        "# ... Your code for loading datasets, splitting into train/test sets, and training models\n",
        "\n",
        "# Individual disease evaluation:\n",
        "calculate_metrics(X_test_diabetes, y_test_diabetes, y_pred_diabetes, 'diabetes')\n",
        "calculate_metrics(X_test_heart, y_test_heart, y_pred_heart, 'heart')\n",
        "calculate_metrics(X_test_kidney, y_test_kidney, y_pred_kidney, 'kidney')\n",
        "calculate_metrics(X_test_liver, y_test_liver, y_pred_liver, 'liver')\n",
        "\n"
      ],
      "metadata": {
        "colab": {
          "base_uri": "https://localhost:8080/"
        },
        "id": "XpCZqRMIUHDe",
        "outputId": "42567cf9-ea0a-43c5-af92-c8b357970926"
      },
      "execution_count": 260,
      "outputs": [
        {
          "output_type": "stream",
          "name": "stdout",
          "text": [
            "\n",
            "Metrics for diabetes dataset:\n",
            "Accuracy: 0.8728070175438597\n",
            "F1-Score: 0.8533762057877814\n",
            "Precision: 0.8574952902126133\n",
            "Recall: 0.8496840996840997\n",
            "Confusion Matrix:\n",
            " [[141  13]\n",
            " [ 16  58]]\n",
            "\n",
            "Metrics for heart dataset:\n",
            "Accuracy: 0.8131868131868132\n",
            "F1-Score: 0.8117317755871973\n",
            "Precision: 0.8112244897959184\n",
            "Recall: 0.812439024390244\n",
            "Confusion Matrix:\n",
            " [[33  8]\n",
            " [ 9 41]]\n",
            "\n",
            "Metrics for kidney dataset:\n",
            "Accuracy: 0.9833333333333333\n",
            "F1-Score: 0.9818785865297492\n",
            "Precision: 0.9871794871794872\n",
            "Recall: 0.9772727272727273\n",
            "Confusion Matrix:\n",
            " [[76  0]\n",
            " [ 2 42]]\n",
            "\n",
            "Metrics for liver dataset:\n",
            "Accuracy: 1.0\n",
            "F1-Score: 1.0\n",
            "Precision: 1.0\n",
            "Recall: 1.0\n",
            "Confusion Matrix:\n",
            " [[3880    0]\n",
            " [   0 1535]]\n"
          ]
        }
      ]
    },
    {
      "cell_type": "code",
      "source": [
        "def plot_confusion_matrix(y_true, y_pred, disease_name):\n",
        "    \"\"\"Plots the confusion matrix for a specific disease.\"\"\"\n",
        "\n",
        "    cm = confusion_matrix(y_true, y_pred)\n",
        "    plt.figure(figsize=(6, 4))  # Adjust figure size as needed\n",
        "    sns.heatmap(cm, annot=True, cmap='Blues', fmt='g',\n",
        "            xticklabels=['Class 0', 'Class 1'],\n",
        "            yticklabels=['Class 0', 'Class 1'])\n",
        "    plt.title(f'Confusion Matrix - {disease_name}')\n",
        "    tick_marks = np.arange(2)  # Assuming binary classification (0 and 1)\n",
        "    plt.xlabel('Predicted')\n",
        "    plt.ylabel('True')\n",
        "    plt.show()"
      ],
      "metadata": {
        "id": "bfrt-aLYU2Ec"
      },
      "execution_count": 261,
      "outputs": []
    },
    {
      "cell_type": "code",
      "source": [
        "# Plot confusion matrices for each disease:\n",
        "plot_confusion_matrix(y_test_diabetes, y_pred_diabetes, 'diabetes')\n",
        "plot_confusion_matrix(y_test_heart, y_pred_heart, 'heart')\n",
        "plot_confusion_matrix(y_test_kidney, y_pred_kidney, 'kidney')\n",
        "plot_confusion_matrix(y_test_liver, y_pred_liver, 'liver')"
      ],
      "metadata": {
        "colab": {
          "base_uri": "https://localhost:8080/",
          "height": 1000
        },
        "id": "D_KbrnkQU4iD",
        "outputId": "ec4420c7-4477-4060-ad3c-1ced16726c8d"
      },
      "execution_count": 262,
      "outputs": [
        {
          "output_type": "display_data",
          "data": {
            "text/plain": [
              "<Figure size 600x400 with 2 Axes>"
            ],
            "image/png": "[encoded data removed]"
          },
          "metadata": {}
        },
        {
          "output_type": "display_data",
          "data": {
            "text/plain": [
              "<Figure size 600x400 with 2 Axes>"
            ],
            "image/png": "[encoded data removed]"
          },
          "metadata": {}
        },
        {
          "output_type": "display_data",
          "data": {
            "text/plain": [
              "<Figure size 600x400 with 2 Axes>"
            ],
            "image/png": "[encoded data removed]"
          },
          "metadata": {}
        },
        {
          "output_type": "display_data",
          "data": {
            "text/plain": [
              "<Figure size 600x400 with 2 Axes>"
            ],
            "image/png": "[encoded data removed]"
          },
          "metadata": {}
        }
      ]
    },
    {
      "cell_type": "code",
      "source": [
        "diseases = ['diabetes', 'heart', 'kidney', 'liver']\n",
        "\n",
        "for disease in diseases:\n",
        "    y_test = y_test_sets[disease]\n",
        "    y_pred = predict(X_test_sets[disease], models[disease]) # Assuming you have predict function\n",
        "    y_true = convert_targets(y_test)\n",
        "\n",
        "    # Calculate metrics here and print with the disease name for clarity\n"
      ],
      "metadata": {
        "id": "XlEn-cjcTdhe"
      },
      "execution_count": null,
      "outputs": []
    },
    {
      "cell_type": "code",
      "source": [
        "\n",
        "# Generate predictions on the combined test sets\n",
        "y_pred = ensemble_model.predict(np.concatenate((X_test_diabetes, X_test_heart, X_test_kidney, X_test_liver), axis=0))\n",
        "\n",
        "# Convert targets into consistent 0/1 representation\n",
        "y_true = convert_targets(np.concatenate((y_test_diabetes, y_test_heart, y_test_kidney, y_test_liver), axis=0))\n",
        "\n",
        "# Calculate the confusion matrix\n",
        "cm = confusion_matrix(y_true, y_pred)\n",
        "print(cm)"
      ],
      "metadata": {
        "colab": {
          "base_uri": "https://localhost:8080/"
        },
        "id": "1CJ-BMipIaha",
        "outputId": "3438f456-14d5-4922-f612-b69d1ec4afc7"
      },
      "execution_count": 221,
      "outputs": [
        {
          "output_type": "stream",
          "name": "stdout",
          "text": [
            "[[  17 1629]\n",
            " [4050   12]]\n"
          ]
        }
      ]
    },
    {
      "cell_type": "code",
      "execution_count": 222,
      "metadata": {
        "id": "s7PHWGJ7NOSh"
      },
      "outputs": [],
      "source": [
        "import pickle\n",
        "\n",
        "# Save the trained ensemble model to a file\n",
        "with open('/content/ensemble_model.pkl', 'wb') as f:\n",
        "    pickle.dump(ensemble_model, f)\n"
      ]
    },
    {
      "cell_type": "code",
      "execution_count": 148,
      "metadata": {
        "id": "ah62tUgaN_NR"
      },
      "outputs": [],
      "source": [
        "# Load the saved model from file\n",
        "import pickle\n",
        "with open('ensemble_model.pkl', 'rb') as f:\n",
        "    loaded_model = pickle.load(f)"
      ]
    },
    {
      "cell_type": "code",
      "execution_count": 273,
      "metadata": {
        "colab": {
          "base_uri": "https://localhost:8080/"
        },
        "id": "sd_vVDHwkkyM",
        "outputId": "78581fd6-1b51-46be-9e25-5615981c49fc"
      },
      "outputs": [
        {
          "output_type": "stream",
          "name": "stdout",
          "text": [
            "Predicted heart disease status: 0\n",
            "Predicted Diabetes disease status: 0\n",
            "Predicted Liver disease status: 0\n",
            "Predicted Kidney disease status: 1\n"
          ]
        }
      ],
      "source": [
        "def predict_disease(disease_type, **kwargs):\n",
        "    with open('ensemble_model.pkl', 'rb') as f:\n",
        "        ensemble_model = pickle.load(f)\n",
        "\n",
        "    if disease_type == 'heart':\n",
        "        features = np.array([[kwargs.get('sex'), kwargs.get('cp'), kwargs.get('thalach'),\n",
        "                              kwargs.get('exang'), kwargs.get('oldpeak'), kwargs.get('slope'), kwargs.get('ca'), kwargs.get('thal')]])\n",
        "    elif disease_type == 'diabetes':\n",
        "        features = np.array([[kwargs.get('Glucose'), kwargs.get('SkinThickness'), kwargs.get('Insulin'), kwargs.get('BMI'),\n",
        "                              kwargs.get('Age'), kwargs.get('NewInsulinScore_Normal'), kwargs.get('NewGlucose_Normal'),\n",
        "                              kwargs.get('NewGlucose_Secret')]])\n",
        "    elif disease_type == 'liver':\n",
        "        features = np.array([[kwargs.get('Gender'), kwargs.get('Total_Bilirubin'),\n",
        "                              kwargs.get('Direct_Bilirubin'), kwargs.get('Alkaline_Phosphotase'),\n",
        "                              kwargs.get('Alamine_Aminotransferase'), kwargs.get('Aspartate_Aminotransferase'), kwargs.get('Albumin'),\n",
        "                              kwargs.get('Albumin_and_Globulin_Ratio')]])\n",
        "    elif disease_type == 'kidney':\n",
        "        features = np.array([[kwargs.get('specific_gravity'), kwargs.get('albumin'), kwargs.get('pus_cell'),\n",
        "                              kwargs.get('haemoglobin'), kwargs.get('packed_cell_volume'), kwargs.get('red_blood_cell_count'),\n",
        "                              kwargs.get('hypertension'), kwargs.get('diabetes_mellitus'),]])\n",
        "    else:\n",
        "        return \"Invalid disease type\"\n",
        "\n",
        "    prediction = ensemble_model.predict(features)\n",
        "    return prediction[0]\n",
        "\n",
        "# Call the function to predict heart disease\n",
        "prediction = predict_disease(disease_type='heart', sex=1, cp=0, thalach=4.948759890378168, exang=0, oldpeak=3.4, slope=1, ca=2, thal=3)\n",
        "print(\"Predicted heart disease status:\", prediction)\n",
        "# Call the function to predict diabetes\n",
        "prediction = predict_disease(disease_type='diabetes', Glucose=148, SkinThickness=0, Insulin=169, BMI=33.6, Age=50, NewInsulinScore_Normal=0, NewGlucose_Normal=0, NewGlucose_Secret=1)\n",
        "print(\"Predicted Diabetes disease status:\", prediction)\n",
        "# Call the function to predict liver disease\n",
        "prediction = predict_disease(disease_type='liver', Gender=1, Total_Bilirubin=0.7, Direct_Bilirubin=0.1, Alkaline_Phosphotase=187, Alamine_Aminotransferase=16, Aspartate_Aminotransferase=18, Albumin=0, Albumin_and_Globulin_Ratio=0.90)\n",
        "print(\"Predicted Liver disease status:\", prediction)\n",
        "# Call the function to predict kidney disease\n",
        "prediction = predict_disease(disease_type='kidney', specific_gravity=1.025, albumin=0.0, pus_cell=1, haemoglobin=15, packed_cell_volume=52, red_blood_cell_count=5.3, hypertension=0, diabetes_mellitus=0)\n",
        "print(\"Predicted Kidney disease status:\", prediction)\n"
      ]
    }
  ],
  "metadata": {
    "colab": {
      "provenance": []
    },
    "kernelspec": {
      "display_name": "Python 3 (ipykernel)",
      "language": "python",
      "name": "python3"
    },
    "language_info": {
      "codemirror_mode": {
        "name": "ipython",
        "version": 3
      },
      "file_extension": ".py",
      "mimetype": "text/x-python",
      "name": "python",
      "nbconvert_exporter": "python",
      "pygments_lexer": "ipython3",
      "version": "3.10.12"
    }
  },
  "nbformat": 4,
  "nbformat_minor": 0
}