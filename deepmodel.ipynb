{
  "cells": [
    {
      "cell_type": "code",
      "source": [
        "from google.colab import drive\n",
        "drive.mount('/content/drive')"
      ],
      "metadata": {
        "colab": {
          "base_uri": "https://localhost:8080/"
        },
        "id": "E5jshtkI5z6k",
        "outputId": "808b3b68-fa5f-43dc-ff90-28cb298601ee"
      },
      "execution_count": 1,
      "outputs": [
        {
          "output_type": "stream",
          "name": "stdout",
          "text": [
            "Mounted at /content/drive\n"
          ]
        }
      ]
    },
    {
      "cell_type": "code",
      "execution_count": 2,
      "metadata": {
        "id": "EyrSL4DEHtU7"
      },
      "outputs": [],
      "source": [
        "import tensorflow as tf\n",
        "import os\n",
        "import zipfile\n",
        "import numpy as np\n",
        "from tensorflow.keras.preprocessing.image import ImageDataGenerator\n",
        "from tensorflow.keras.applications import ResNet101V2\n",
        "from tensorflow.keras.layers import Dense, Flatten, Dropout\n",
        "from tensorflow.keras.models import Model\n",
        "from tensorflow.keras.callbacks import ModelCheckpoint"
      ]
    },
    {
      "cell_type": "code",
      "source": [
        "datasets = \"/content/drive/MyDrive/dataset.zip\"\n",
        "target_dir = 'data'  # Extract into Data Folder\n",
        "os.makedirs(target_dir, exist_ok=True)\n",
        "\n",
        "with zipfile.ZipFile(datasets, 'r') as zip_ref:\n",
        "    zip_ref.extractall(target_dir)"
      ],
      "metadata": {
        "id": "gip4zmSq_4Fz"
      },
      "execution_count": 3,
      "outputs": []
    },
    {
      "cell_type": "code",
      "source": [
        "breasttest = \"/content/drive/MyDrive/breast/test\"\n",
        "chesttest = \"/content/drive/MyDrive/chest/test\"\n",
        "malariatest = \"/content/drive/MyDrive/malaria/test\""
      ],
      "metadata": {
        "id": "ZnIr5rTXCL9m"
      },
      "execution_count": 4,
      "outputs": []
    },
    {
      "cell_type": "code",
      "execution_count": 5,
      "metadata": {
        "id": "UAERd8QbH9YZ"
      },
      "outputs": [],
      "source": [
        "# Define data directory, target size, and batch size\n",
        "data_dir = 'data'\n",
        "target_size = (224, 224)\n",
        "batch_size = 64"
      ]
    },
    {
      "cell_type": "code",
      "source": [
        "# Define function to load disease data\n",
        "def load_disease_data(data_dir, disease_name, target_size, batch_size, validation_split=0.2):\n",
        "    generator = ImageDataGenerator(rescale=1./255, validation_split=validation_split).flow_from_directory(\n",
        "        os.path.join(data_dir, disease_name),\n",
        "        target_size=target_size,\n",
        "        batch_size=batch_size,\n",
        "        classes=['Positive', 'Negative'],\n",
        "        subset='training'\n",
        "    )\n",
        "\n",
        "    return generator"
      ],
      "metadata": {
        "id": "-MocilGTuIrK"
      },
      "execution_count": 9,
      "outputs": []
    },
    {
      "cell_type": "code",
      "source": [
        "# Load disease data for chest_xrays, malaria, and breastcancer\n",
        "chest_xrays_generator = load_disease_data(data_dir, 'chest_xray', target_size, batch_size)\n",
        "malaria_generator = load_disease_data(data_dir, 'malariadataset', target_size, batch_size)\n",
        "breastcancer_generator = load_disease_data(data_dir, 'breastcancer', target_size, batch_size)"
      ],
      "metadata": {
        "colab": {
          "base_uri": "https://localhost:8080/"
        },
        "id": "pqk21F3VuInl",
        "outputId": "7b223d8c-5f7f-494b-93ab-223d1ae164fb"
      },
      "execution_count": 10,
      "outputs": [
        {
          "output_type": "stream",
          "name": "stdout",
          "text": [
            "Found 4173 images belonging to 2 classes.\n",
            "Found 5645 images belonging to 2 classes.\n",
            "Found 7721 images belonging to 2 classes.\n"
          ]
        }
      ]
    },
    {
      "cell_type": "code",
      "source": [
        "# Define function to create disease-specific model\n",
        "def create_disease_model(input_shape):\n",
        "    base_model = ResNet101V2(include_top=False, weights='imagenet', input_shape=input_shape)\n",
        "    x = base_model.output\n",
        "    x = Flatten()(x)\n",
        "    x = Dense(64, activation='relu')(x)\n",
        "    x = Dropout(0.2)(x)\n",
        "    predictions = Dense(2, activation='softmax')(x)  # Output two classes (positive/negative)\n",
        "    model = Model(inputs=base_model.input, outputs=predictions)\n",
        "    model.compile(optimizer='adam', loss='categorical_crossentropy', metrics=['accuracy'])\n",
        "    return model"
      ],
      "metadata": {
        "id": "4lBZiB5luIlA"
      },
      "execution_count": 11,
      "outputs": []
    },
    {
      "cell_type": "code",
      "source": [
        "# Create disease-specific models\n",
        "chest_xrays_model = create_disease_model(target_size + (3,))\n",
        "malaria_model = create_disease_model(target_size + (3,))\n",
        "breastcancer_model = create_disease_model(target_size + (3,))"
      ],
      "metadata": {
        "id": "S_WtqWmKuIi7",
        "colab": {
          "base_uri": "https://localhost:8080/"
        },
        "outputId": "d18e0779-df65-44c9-cb80-d6186f8b90f0"
      },
      "execution_count": 12,
      "outputs": [
        {
          "output_type": "stream",
          "name": "stdout",
          "text": [
            "Downloading data from https://storage.googleapis.com/tensorflow/keras-applications/resnet/resnet101v2_weights_tf_dim_ordering_tf_kernels_notop.h5\n",
            "171317808/171317808 [==============================] - 1s 0us/step\n"
          ]
        }
      ]
    },
    {
      "cell_type": "code",
      "source": [
        "# Define function for training models\n",
        "def train_model(model, train_data, epochs):\n",
        "    model.fit(train_data, epochs=epochs)"
      ],
      "metadata": {
        "id": "db0RRRd9uIgT"
      },
      "execution_count": 13,
      "outputs": []
    },
    {
      "cell_type": "code",
      "source": [
        "# Train disease-specific models\n",
        "train_model(chest_xrays_model, chest_xrays_generator, epochs=4)\n",
        "train_model(malaria_model, malaria_generator, epochs=4)\n",
        "train_model(breastcancer_model, breastcancer_generator, epochs=4)"
      ],
      "metadata": {
        "colab": {
          "base_uri": "https://localhost:8080/"
        },
        "id": "bYyWi0KYuId4",
        "outputId": "5dea2e3b-2ad1-42ad-e7a2-2979305d8eef"
      },
      "execution_count": null,
      "outputs": [
        {
          "output_type": "stream",
          "name": "stdout",
          "text": [
            "Epoch 1/4\n",
            "66/66 [==============================] - 120s 1s/step - loss: 0.5271 - accuracy: 0.8974\n",
            "Epoch 2/4\n",
            "66/66 [==============================] - 65s 974ms/step - loss: 0.1093 - accuracy: 0.9583\n",
            "Epoch 3/4\n",
            "66/66 [==============================] - 66s 999ms/step - loss: 0.2954 - accuracy: 0.9027\n",
            "Epoch 4/4\n",
            "66/66 [==============================] - 66s 996ms/step - loss: 0.1512 - accuracy: 0.9420\n",
            "Epoch 1/4\n",
            "89/89 [==============================] - 141s 986ms/step - loss: 0.7000 - accuracy: 0.8661\n",
            "Epoch 2/4\n",
            "89/89 [==============================] - 89s 994ms/step - loss: 0.1926 - accuracy: 0.9424\n",
            "Epoch 3/4\n",
            "89/89 [==============================] - 88s 988ms/step - loss: 0.1662 - accuracy: 0.9447\n",
            "Epoch 4/4\n",
            "89/89 [==============================] - 88s 983ms/step - loss: 0.2180 - accuracy: 0.9467\n",
            "Epoch 1/4\n",
            "121/121 [==============================] - 177s 1s/step - loss: 0.5595 - accuracy: 0.8315\n",
            "Epoch 2/4\n",
            "121/121 [==============================] - 123s 1s/step - loss: 0.2644 - accuracy: 0.8900\n",
            "Epoch 3/4\n",
            "121/121 [==============================] - 123s 1s/step - loss: 0.2629 - accuracy: 0.9016\n",
            "Epoch 4/4\n",
            "121/121 [==============================] - 122s 1s/step - loss: 0.4192 - accuracy: 0.8631\n"
          ]
        }
      ]
    },
    {
      "cell_type": "code",
      "source": [
        "chest_xrays_model.save('/content/drive/MyDrive/pneumonia_model.h5')\n",
        "malaria_model.save('/content/drive/MyDrive/malaria_model.h5')\n",
        "breastcancer_model.save('/content/drive/MyDrive/breastcancer_model.h5')"
      ],
      "metadata": {
        "colab": {
          "base_uri": "https://localhost:8080/",
          "height": 176
        },
        "id": "7KYZH66V1jwX",
        "outputId": "83ae1b46-6543-4303-b804-d7914cfb10c8"
      },
      "execution_count": null,
      "outputs": [
        {
          "output_type": "error",
          "ename": "NameError",
          "evalue": "name 'chest_xrays_model' is not defined",
          "traceback": [
            "\u001b[0;31m---------------------------------------------------------------------------\u001b[0m",
            "\u001b[0;31mNameError\u001b[0m                                 Traceback (most recent call last)",
            "\u001b[0;32m<ipython-input-1-008696b0984d>\u001b[0m in \u001b[0;36m<cell line: 1>\u001b[0;34m()\u001b[0m\n\u001b[0;32m----> 1\u001b[0;31m \u001b[0mchest_xrays_model\u001b[0m\u001b[0;34m.\u001b[0m\u001b[0msave\u001b[0m\u001b[0;34m(\u001b[0m\u001b[0;34m'/content/drive/MyDrive/pneumonia_model.h5'\u001b[0m\u001b[0;34m)\u001b[0m\u001b[0;34m\u001b[0m\u001b[0;34m\u001b[0m\u001b[0m\n\u001b[0m\u001b[1;32m      2\u001b[0m \u001b[0mmalaria_model\u001b[0m\u001b[0;34m.\u001b[0m\u001b[0msave\u001b[0m\u001b[0;34m(\u001b[0m\u001b[0;34m'/content/drive/MyDrive/malaria_model.h5'\u001b[0m\u001b[0;34m)\u001b[0m\u001b[0;34m\u001b[0m\u001b[0;34m\u001b[0m\u001b[0m\n\u001b[1;32m      3\u001b[0m \u001b[0mbreastcancer_model\u001b[0m\u001b[0;34m.\u001b[0m\u001b[0msave\u001b[0m\u001b[0;34m(\u001b[0m\u001b[0;34m'/content/drive/MyDrive/breastcancer_model.h5'\u001b[0m\u001b[0;34m)\u001b[0m\u001b[0;34m\u001b[0m\u001b[0;34m\u001b[0m\u001b[0m\n",
            "\u001b[0;31mNameError\u001b[0m: name 'chest_xrays_model' is not defined"
          ]
        }
      ]
    },
    {
      "cell_type": "code",
      "source": [
        "# Load trained models from Google Drive\n",
        "from tensorflow.keras.models import load_model\n",
        "\n",
        "pneumonia_model = load_model('/content/drive/MyDrive/pneumonia_model.h5')\n",
        "malaria_model = load_model('/content/drive/MyDrive/malaria_model.h5')\n",
        "breastcancer_model = load_model('/content/drive/MyDrive/breastcancer_model.h5')"
      ],
      "metadata": {
        "id": "r7NLbAhkCoQ0"
      },
      "execution_count": null,
      "outputs": []
    },
    {
      "cell_type": "code",
      "source": [
        "# Define function to load test data\n",
        "def load_test_data(test_dir, target_size, batch_size):\n",
        "    test_datagen = ImageDataGenerator(rescale=1./255)\n",
        "\n",
        "    test_generator = test_datagen.flow_from_directory(\n",
        "        test_dir,\n",
        "        target_size=target_size,\n",
        "        batch_size=batch_size,\n",
        "        class_mode='categorical',  # Assuming binary classification (positive/negative)\n",
        "        shuffle=False  # Keep the order of samples for evaluation\n",
        "    )\n",
        "\n",
        "    return test_generator"
      ],
      "metadata": {
        "id": "byTXisEEEbvy"
      },
      "execution_count": null,
      "outputs": []
    },
    {
      "cell_type": "code",
      "source": [
        "# Example usage of load_test_data function\n",
        "breast_test_generator = load_test_data(\"/content/drive/MyDrive/breast/test\", target_size, batch_size)\n",
        "chest_test_generator = load_test_data(\"/content/drive/MyDrive/chest/test\", target_size, batch_size)\n",
        "malaria_test_generator = load_test_data(\"/content/drive/MyDrive/malaria/test\", target_size, batch_size)"
      ],
      "metadata": {
        "colab": {
          "base_uri": "https://localhost:8080/"
        },
        "id": "QIc3ytjuEnuX",
        "outputId": "787c5691-c05f-410a-df1e-f201a8d91671"
      },
      "execution_count": null,
      "outputs": [
        {
          "output_type": "stream",
          "name": "stdout",
          "text": [
            "Found 42 images belonging to 2 classes.\n",
            "Found 624 images belonging to 2 classes.\n",
            "Found 2756 images belonging to 2 classes.\n"
          ]
        }
      ]
    },
    {
      "cell_type": "code",
      "source": [
        "# Evaluate the models on test data\n",
        "#pneumonia_eval = pneumonia_model.evaluate(chest_test_generator)\n",
        "malaria_eval = malaria_model.evaluate(malaria_test_generator)\n",
        "breastcancer_eval = breastcancer_model.evaluate(breast_test_generator)"
      ],
      "metadata": {
        "colab": {
          "base_uri": "https://localhost:8080/"
        },
        "id": "ZybI1z6mFcZ_",
        "outputId": "9f8a4307-62ef-4155-9a41-79c8f94dced8"
      },
      "execution_count": null,
      "outputs": [
        {
          "output_type": "stream",
          "name": "stdout",
          "text": [
            "18/44 [===========>..................] - ETA: 8:41 - loss: 0.0000e+00 - accuracy: 1.0000"
          ]
        }
      ]
    },
    {
      "cell_type": "code",
      "source": [
        "# Evaluate models on test set (if available)\n",
        "if chest_xrays_test:\n",
        "    chest_xrays_model.evaluate(chest_xrays_test)\n",
        "\n",
        "if malaria_test:\n",
        "    malaria_model.evaluate(malaria_test)\n",
        "\n",
        "if breastcancer_test:\n",
        "    breastcancer_model.evaluate(breastcancer_test)"
      ],
      "metadata": {
        "id": "2RN8lf9R1IN7"
      },
      "execution_count": null,
      "outputs": []
    },
    {
      "cell_type": "code",
      "source": [
        "# Handle User-Uploaded Images for Inference\n",
        "def predict_disease(image_path, model):\n",
        "    img = tf.keras.preprocessing.image.load_img(image_path, target_size=target_size)\n",
        "    img_array = tf.keras.preprocessing.image.img_to_array(img)\n",
        "    img_array = np.expand_dims(img_array, axis=0)\n",
        "    img_array /= 255.0  # Normalize the image\n",
        "\n",
        "    prediction = model.predict(img_array)\n",
        "    # Process prediction and return result\n",
        "    return prediction"
      ],
      "metadata": {
        "id": "2534_ubQuIbg"
      },
      "execution_count": null,
      "outputs": []
    },
    {
      "cell_type": "code",
      "source": [
        "# Example usage for user-uploaded image\n",
        "image_path = 'path_to_user_uploaded_image.jpg'\n",
        "chest_xrays_prediction = predict_disease(image_path, chest_xrays_model)\n",
        "malaria_prediction = predict_disease(image_path, malaria_model)\n",
        "breastcancer_prediction = predict_disease(image_path, breastcancer_model)"
      ],
      "metadata": {
        "colab": {
          "base_uri": "https://localhost:8080/",
          "height": 373
        },
        "id": "UNow1zI5uIPY",
        "outputId": "8e2918b1-aef5-4026-b751-f2affc7b6c6c"
      },
      "execution_count": null,
      "outputs": [
        {
          "output_type": "error",
          "ename": "FileNotFoundError",
          "evalue": "[Errno 2] No such file or directory: 'path_to_user_uploaded_image.jpg'",
          "traceback": [
            "\u001b[0;31m---------------------------------------------------------------------------\u001b[0m",
            "\u001b[0;31mFileNotFoundError\u001b[0m                         Traceback (most recent call last)",
            "\u001b[0;32m<ipython-input-58-bba60a545159>\u001b[0m in \u001b[0;36m<cell line: 3>\u001b[0;34m()\u001b[0m\n\u001b[1;32m      1\u001b[0m \u001b[0;31m# Example usage for user-uploaded image\u001b[0m\u001b[0;34m\u001b[0m\u001b[0;34m\u001b[0m\u001b[0m\n\u001b[1;32m      2\u001b[0m \u001b[0mimage_path\u001b[0m \u001b[0;34m=\u001b[0m \u001b[0;34m'path_to_user_uploaded_image.jpg'\u001b[0m\u001b[0;34m\u001b[0m\u001b[0;34m\u001b[0m\u001b[0m\n\u001b[0;32m----> 3\u001b[0;31m \u001b[0mchest_xrays_prediction\u001b[0m \u001b[0;34m=\u001b[0m \u001b[0mpredict_disease\u001b[0m\u001b[0;34m(\u001b[0m\u001b[0mimage_path\u001b[0m\u001b[0;34m,\u001b[0m \u001b[0mchest_xrays_model\u001b[0m\u001b[0;34m)\u001b[0m\u001b[0;34m\u001b[0m\u001b[0;34m\u001b[0m\u001b[0m\n\u001b[0m\u001b[1;32m      4\u001b[0m \u001b[0mmalaria_prediction\u001b[0m \u001b[0;34m=\u001b[0m \u001b[0mpredict_disease\u001b[0m\u001b[0;34m(\u001b[0m\u001b[0mimage_path\u001b[0m\u001b[0;34m,\u001b[0m \u001b[0mmalaria_model\u001b[0m\u001b[0;34m)\u001b[0m\u001b[0;34m\u001b[0m\u001b[0;34m\u001b[0m\u001b[0m\n\u001b[1;32m      5\u001b[0m \u001b[0mbreastcancer_prediction\u001b[0m \u001b[0;34m=\u001b[0m \u001b[0mpredict_disease\u001b[0m\u001b[0;34m(\u001b[0m\u001b[0mimage_path\u001b[0m\u001b[0;34m,\u001b[0m \u001b[0mbreastcancer_model\u001b[0m\u001b[0;34m)\u001b[0m\u001b[0;34m\u001b[0m\u001b[0;34m\u001b[0m\u001b[0m\n",
            "\u001b[0;32m<ipython-input-57-12b8d56bb3a4>\u001b[0m in \u001b[0;36mpredict_disease\u001b[0;34m(image_path, model)\u001b[0m\n\u001b[1;32m      1\u001b[0m \u001b[0;31m# Handle User-Uploaded Images for Inference\u001b[0m\u001b[0;34m\u001b[0m\u001b[0;34m\u001b[0m\u001b[0m\n\u001b[1;32m      2\u001b[0m \u001b[0;32mdef\u001b[0m \u001b[0mpredict_disease\u001b[0m\u001b[0;34m(\u001b[0m\u001b[0mimage_path\u001b[0m\u001b[0;34m,\u001b[0m \u001b[0mmodel\u001b[0m\u001b[0;34m)\u001b[0m\u001b[0;34m:\u001b[0m\u001b[0;34m\u001b[0m\u001b[0;34m\u001b[0m\u001b[0m\n\u001b[0;32m----> 3\u001b[0;31m     \u001b[0mimg\u001b[0m \u001b[0;34m=\u001b[0m \u001b[0mtf\u001b[0m\u001b[0;34m.\u001b[0m\u001b[0mkeras\u001b[0m\u001b[0;34m.\u001b[0m\u001b[0mpreprocessing\u001b[0m\u001b[0;34m.\u001b[0m\u001b[0mimage\u001b[0m\u001b[0;34m.\u001b[0m\u001b[0mload_img\u001b[0m\u001b[0;34m(\u001b[0m\u001b[0mimage_path\u001b[0m\u001b[0;34m,\u001b[0m \u001b[0mtarget_size\u001b[0m\u001b[0;34m=\u001b[0m\u001b[0mtarget_size\u001b[0m\u001b[0;34m)\u001b[0m\u001b[0;34m\u001b[0m\u001b[0;34m\u001b[0m\u001b[0m\n\u001b[0m\u001b[1;32m      4\u001b[0m     \u001b[0mimg_array\u001b[0m \u001b[0;34m=\u001b[0m \u001b[0mtf\u001b[0m\u001b[0;34m.\u001b[0m\u001b[0mkeras\u001b[0m\u001b[0;34m.\u001b[0m\u001b[0mpreprocessing\u001b[0m\u001b[0;34m.\u001b[0m\u001b[0mimage\u001b[0m\u001b[0;34m.\u001b[0m\u001b[0mimg_to_array\u001b[0m\u001b[0;34m(\u001b[0m\u001b[0mimg\u001b[0m\u001b[0;34m)\u001b[0m\u001b[0;34m\u001b[0m\u001b[0;34m\u001b[0m\u001b[0m\n\u001b[1;32m      5\u001b[0m     \u001b[0mimg_array\u001b[0m \u001b[0;34m=\u001b[0m \u001b[0mnp\u001b[0m\u001b[0;34m.\u001b[0m\u001b[0mexpand_dims\u001b[0m\u001b[0;34m(\u001b[0m\u001b[0mimg_array\u001b[0m\u001b[0;34m,\u001b[0m \u001b[0maxis\u001b[0m\u001b[0;34m=\u001b[0m\u001b[0;36m0\u001b[0m\u001b[0;34m)\u001b[0m\u001b[0;34m\u001b[0m\u001b[0;34m\u001b[0m\u001b[0m\n",
            "\u001b[0;32m/usr/local/lib/python3.10/dist-packages/keras/src/utils/image_utils.py\u001b[0m in \u001b[0;36mload_img\u001b[0;34m(path, grayscale, color_mode, target_size, interpolation, keep_aspect_ratio)\u001b[0m\n\u001b[1;32m    420\u001b[0m         \u001b[0;32mif\u001b[0m \u001b[0misinstance\u001b[0m\u001b[0;34m(\u001b[0m\u001b[0mpath\u001b[0m\u001b[0;34m,\u001b[0m \u001b[0mpathlib\u001b[0m\u001b[0;34m.\u001b[0m\u001b[0mPath\u001b[0m\u001b[0;34m)\u001b[0m\u001b[0;34m:\u001b[0m\u001b[0;34m\u001b[0m\u001b[0;34m\u001b[0m\u001b[0m\n\u001b[1;32m    421\u001b[0m             \u001b[0mpath\u001b[0m \u001b[0;34m=\u001b[0m \u001b[0mstr\u001b[0m\u001b[0;34m(\u001b[0m\u001b[0mpath\u001b[0m\u001b[0;34m.\u001b[0m\u001b[0mresolve\u001b[0m\u001b[0;34m(\u001b[0m\u001b[0;34m)\u001b[0m\u001b[0;34m)\u001b[0m\u001b[0;34m\u001b[0m\u001b[0;34m\u001b[0m\u001b[0m\n\u001b[0;32m--> 422\u001b[0;31m         \u001b[0;32mwith\u001b[0m \u001b[0mopen\u001b[0m\u001b[0;34m(\u001b[0m\u001b[0mpath\u001b[0m\u001b[0;34m,\u001b[0m \u001b[0;34m\"rb\"\u001b[0m\u001b[0;34m)\u001b[0m \u001b[0;32mas\u001b[0m \u001b[0mf\u001b[0m\u001b[0;34m:\u001b[0m\u001b[0;34m\u001b[0m\u001b[0;34m\u001b[0m\u001b[0m\n\u001b[0m\u001b[1;32m    423\u001b[0m             \u001b[0mimg\u001b[0m \u001b[0;34m=\u001b[0m \u001b[0mpil_image\u001b[0m\u001b[0;34m.\u001b[0m\u001b[0mopen\u001b[0m\u001b[0;34m(\u001b[0m\u001b[0mio\u001b[0m\u001b[0;34m.\u001b[0m\u001b[0mBytesIO\u001b[0m\u001b[0;34m(\u001b[0m\u001b[0mf\u001b[0m\u001b[0;34m.\u001b[0m\u001b[0mread\u001b[0m\u001b[0;34m(\u001b[0m\u001b[0;34m)\u001b[0m\u001b[0;34m)\u001b[0m\u001b[0;34m)\u001b[0m\u001b[0;34m\u001b[0m\u001b[0;34m\u001b[0m\u001b[0m\n\u001b[1;32m    424\u001b[0m     \u001b[0;32melse\u001b[0m\u001b[0;34m:\u001b[0m\u001b[0;34m\u001b[0m\u001b[0;34m\u001b[0m\u001b[0m\n",
            "\u001b[0;31mFileNotFoundError\u001b[0m: [Errno 2] No such file or directory: 'path_to_user_uploaded_image.jpg'"
          ]
        }
      ]
    },
    {
      "cell_type": "code",
      "source": [
        "print(\"Chest X-rays Prediction:\", chest_xrays_prediction)\n",
        "print(\"Malaria Prediction:\", malaria_prediction)\n",
        "print(\"Breast Cancer Prediction:\", breastcancer_prediction)"
      ],
      "metadata": {
        "id": "0S-DsCisuqC7"
      },
      "execution_count": null,
      "outputs": []
    }
  ],
  "metadata": {
    "colab": {
      "provenance": [],
      "gpuType": "T4"
    },
    "kernelspec": {
      "display_name": "Python 3",
      "name": "python3"
    },
    "language_info": {
      "codemirror_mode": {
        "name": "ipython",
        "version": 3
      },
      "file_extension": ".py",
      "mimetype": "text/x-python",
      "name": "python",
      "nbconvert_exporter": "python",
      "pygments_lexer": "ipython3",
      "version": "3.11.4"
    },
    "accelerator": "GPU"
  },
  "nbformat": 4,
  "nbformat_minor": 0
}